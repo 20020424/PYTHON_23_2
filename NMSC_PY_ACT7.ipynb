{
  "nbformat": 4,
  "nbformat_minor": 0,
  "metadata": {
    "colab": {
      "provenance": [],
      "authorship_tag": "ABX9TyNdLGvOjrFRnkUD3QfWZsIh",
      "include_colab_link": true
    },
    "kernelspec": {
      "name": "python3",
      "display_name": "Python 3"
    },
    "language_info": {
      "name": "python"
    }
  },
  "cells": [
    {
      "cell_type": "markdown",
      "metadata": {
        "id": "view-in-github",
        "colab_type": "text"
      },
      "source": [
        "<a href=\"https://colab.research.google.com/github/20020424/PYTHON_23_2/blob/main/NMSC_PY_ACT7.ipynb\" target=\"_parent\"><img src=\"https://colab.research.google.com/assets/colab-badge.svg\" alt=\"Open In Colab\"/></a>"
      ]
    },
    {
      "cell_type": "markdown",
      "source": [
        "*NANCY MARIA SIQUEIROS CHAVEZ*\n",
        "\n",
        "*MATRICULA: 366239*\n",
        "\n",
        "*FECHA: 26 DE SEPTIEMBRE DEL 2023*\n",
        "\n",
        "*A C T I V I D A D  7*\n"
      ],
      "metadata": {
        "id": "Z0c3Nj-jLE5u"
      }
    },
    {
      "cell_type": "code",
      "source": [
        "import random\n",
        "from IPython.display import clear_output"
      ],
      "metadata": {
        "id": "zsD0dv7NM69v"
      },
      "execution_count": 2,
      "outputs": []
    },
    {
      "cell_type": "code",
      "source": [
        "def vali_num(msge,ri=0,rf=100,msgError1=\"NUMERO FUERA DEL RANGO\",msgError2=\"INGRESA UN VALOR NUMERICO\"):\n",
        "    while True:\n",
        "        try:\n",
        "            num = int(input(f\"{msge}: \"))\n",
        "        except ValueError:\n",
        "            print (msgError2)\n",
        "            continue\n",
        "        if num < ri or num > rf:\n",
        "            print(f\"{msgError1} ({ri} a {rf})\")\n",
        "            continue\n",
        "        else:\n",
        "            break\n",
        "    return num"
      ],
      "metadata": {
        "id": "2gu2aRKSM1Wj"
      },
      "execution_count": 3,
      "outputs": []
    },
    {
      "cell_type": "markdown",
      "source": [
        "#### 1.- Función que utilice una lista con los nombres de tus mascotas, o artistas favoritos, (minimo 5, maximo 10) imprimir las cadenas y la cantidad de caracteres de cada cadena.  "
      ],
      "metadata": {
        "id": "KnsownhRLxbZ"
      }
    },
    {
      "cell_type": "code",
      "source": [
        "def list_artistas():\n",
        "        clear_output()\n",
        "        print(\" ARTISTAS FAVORITOS\")\n",
        "        print(\"\\n\")\n",
        "\n",
        "        lista = [\"BEYONCE\" , \"ARIANA GRANDE\" , \"ADELE\" , \"TORI KELLY\" , \"ZACH GORDON\" , \"SAM SMITH\" , \"BLACKPINK\" , \"BANGTAN\" , \"TWICE\" , \"XG\"]\n",
        "        for i,cadena in enumerate(lista):\n",
        "          print (f\" {[i+1]}{cadena} --> {len(cadena)} CARACTERES\")\n"
      ],
      "metadata": {
        "id": "tLKxhcTdPULf"
      },
      "execution_count": 4,
      "outputs": []
    },
    {
      "cell_type": "markdown",
      "source": [
        "#### 2.- Programa que utilice 2 funciones, Función que genere y regrese una lista con 10 números aleatorios entre el 30 y 50 (no repetidos). Función que reciba una lista , Imprimir la lista (Indice y Valor )\n",
        "\n",
        "Mandar llamar la función e imprimir toda la lista."
      ],
      "metadata": {
        "id": "eTQ9dPtfMBpR"
      }
    },
    {
      "cell_type": "code",
      "source": [
        "def lista_aleatoria():\n",
        "    clear_output()\n",
        "    lista_random = []\n",
        "    while len(lista_random) < 10:\n",
        "        numero = random.randint(30, 50)\n",
        "        if numero not in lista_random:\n",
        "            lista_random.append(numero)\n",
        "    print(f\"Lista con aleatorios = {lista_random}\")\n",
        "    return lista_random\n",
        "def lista_indices():\n",
        "    clear_output()\n",
        "    print(\"LISTA CON INDICE Y VALOR\")\n",
        "    lista = []\n",
        "    tam = vali_num(\"Ingresa que tamaño deseas que tenga la lista:\")\n",
        "    for i in range(tam):\n",
        "        num = vali_num(f\"Ingresa el valor {i}: \")\n",
        "        lista.append(num)\n",
        "    print(\"Lista con indice y valores: \")\n",
        "    for indice, valor in enumerate(lista):\n",
        "        print(f\"[{indice}]: {valor}\")"
      ],
      "metadata": {
        "id": "Rqp0raLDaR53"
      },
      "execution_count": 5,
      "outputs": []
    },
    {
      "cell_type": "markdown",
      "source": [
        "#### 3.- Escribe una función que reciba dos listas de números del mismo tamaño y calcule la suma de los elementos correspondientes de cada lista. (regresar una nueva lista) . Luego, muestra una lista con los resultados de cada suma. Nota: si las listas no son del mismo tamaño mandar msge y utilizar el tamaño de la lista mas pequeña."
      ],
      "metadata": {
        "id": "BrDC0V7mYAQ7"
      }
    },
    {
      "cell_type": "code",
      "source": [
        "def suma_listas_padre():\n",
        "    clear_output()\n",
        "    print(\"SUMA LISTAS\")\n",
        "    def suma_listas(lista1,lista2):\n",
        "        if len(lista1) != len(lista2):\n",
        "            print(\"Las listas tienen diferente tamaño, se utilizara la lista más pequeña\")\n",
        "            tam = min(len(lista1), len(lista2))\n",
        "        else:\n",
        "            tam = len(lista1)\n",
        "\n",
        "        suma_listas = []\n",
        "        for i in range(tam):\n",
        "            suma = lista1[i] + lista2[i]\n",
        "            suma_listas.append(suma)\n",
        "        print(f\"Suma listas = {suma_listas}\")\n",
        "\n",
        "    lista1 = []\n",
        "    lista2 = []\n",
        "\n",
        "    tam_l1 = vali_num(\"Ingresa el tamaño para la lista 1: \")\n",
        "    for i in range(tam_l1):\n",
        "        num = vali_num(f\"[{i+1}].-Ingresa un numero entero: \")\n",
        "        lista1.append(num)\n",
        "    tam_l2 = vali_num(\"Ingresa el tamaño para la lista 2: \")\n",
        "    for i in range(tam_l2):\n",
        "        num = vali_num(f\"[{i+1}]Ingresa un numero entero: \")\n",
        "        lista2.append(num)\n",
        "    print(f\"Lista 1 : {lista1}\")\n",
        "    print(f\"Lista 2 : {lista2}\")\n",
        "    suma_listas(lista1,lista2)\n",
        "\n",
        "suma_listas_padre()"
      ],
      "metadata": {
        "id": "pEaDgF6CL9iV",
        "colab": {
          "base_uri": "https://localhost:8080/"
        },
        "outputId": "5c5a5f82-e703-4a85-ea81-701e167286dd"
      },
      "execution_count": 7,
      "outputs": [
        {
          "output_type": "stream",
          "name": "stdout",
          "text": [
            "SUMA LISTAS\n",
            "Ingresa el tamaño para la lista 1: : 5\n",
            "[1].-Ingresa un numero entero: : 58\n",
            "[2].-Ingresa un numero entero: : 69\n",
            "[3].-Ingresa un numero entero: : 47\n",
            "[4].-Ingresa un numero entero: : 35\n",
            "[5].-Ingresa un numero entero: : 17\n",
            "Ingresa el tamaño para la lista 2: : 5\n",
            "[1]Ingresa un numero entero: : 32\n",
            "[2]Ingresa un numero entero: : 65\n",
            "[3]Ingresa un numero entero: : 47\n",
            "[4]Ingresa un numero entero: : 59\n",
            "[5]Ingresa un numero entero: : 24\n",
            "Lista 1 : [58, 69, 47, 35, 17]\n",
            "Lista 2 : [32, 65, 47, 59, 24]\n",
            "Suma listas = [90, 134, 94, 94, 41]\n"
          ]
        }
      ]
    },
    {
      "cell_type": "markdown",
      "source": [
        "#### 4.- Escribe una función llamada eliminar_duplicados que reciba una lista como parámetro y elimine los elementos duplicados. El resultado debe ser una nueva lista sin duplicados. Pide al usuario que ingrese una lista y luego llama a la función eliminar_duplicados para mostrar la lista sin duplicados. (Solo Numeros enteros, validar)."
      ],
      "metadata": {
        "id": "9f3ccFchYPrz"
      }
    },
    {
      "cell_type": "code",
      "source": [
        "def duplicados():\n",
        "    clear_output()\n",
        "    print(\"ELIMINAR DUPLICADOS DE UNA LISTA\")\n",
        "    def eliminar_duplicados(lista):\n",
        "        clear_output()\n",
        "        nueva_lista = []\n",
        "        for elemento in lista:\n",
        "            if elemento not in nueva_lista:\n",
        "                nueva_lista.append(elemento)\n",
        "        print(f\"Lista anterior = {lista}\")\n",
        "        print(f\"Nueva lista sin duplicados = {nueva_lista}\")\n",
        "\n",
        "    lista = []\n",
        "    tam_l = vali_num(\"Ingresa el tamaño para la lista: \")\n",
        "    for i in range(tam_l):\n",
        "        num = vali_num(f\"[{i+1}].-Ingresa un numero entero: \")\n",
        "        lista.append(num)\n",
        "\n",
        "    eliminar_duplicados(lista)\n",
        "\n",
        "duplicados()"
      ],
      "metadata": {
        "id": "CYmPPOH5YZAc",
        "colab": {
          "base_uri": "https://localhost:8080/"
        },
        "outputId": "9b5272ef-24fe-4932-c2b4-d1f21ed8e756"
      },
      "execution_count": 8,
      "outputs": [
        {
          "output_type": "stream",
          "name": "stdout",
          "text": [
            "Lista anterior = [84, 25, 69, 87, 55]\n",
            "Nueva lista sin duplicados = [84, 25, 69, 87, 55]\n"
          ]
        }
      ]
    },
    {
      "cell_type": "markdown",
      "source": [
        "#### 5.- Escribe una función que calcule la media y la mediana de una lista de números enteros.\n",
        "\n",
        "La media es la suma de todos los elementos y dividido entre la cantidad de elementos\n",
        "\n",
        "La mediana es el valor que queda en la mitad de la lista cuando se ordena de forma ascendente. Si la lista tiene un número par de elementos, la mediana se calcula como el promedio de los dos valores centrales. Puedes utilizar el método sort() para ordenar la lista y luego calcular la mediana según el tamaño de la lista."
      ],
      "metadata": {
        "id": "6TQRKCmfYaSD"
      }
    },
    {
      "cell_type": "code",
      "source": [
        "def media_mediana():\n",
        "    clear_output()\n",
        "    print(\"MEDIA Y MEDIANA DE UNA LISTA\")\n",
        "    def calcular_media_mediana(lista):\n",
        "\n",
        "        tam = len(lista)\n",
        "        lista_ordenada = sorted(lista)\n",
        "\n",
        "        media = sum(lista) / tam\n",
        "\n",
        "        if tam%2 == 0:\n",
        "            mediana = (lista_ordenada[tam//2 - 1] + lista_ordenada[tam//2]) / 2\n",
        "        else:\n",
        "            mediana = lista_ordenada[tam//2]\n",
        "        print(f\"La media es: {media}\")\n",
        "        print(f\"La mediana es: {mediana}\")\n",
        "    lista = []\n",
        "    tam_l = vali_num(\"Ingresa el tamaño para la lista: \")\n",
        "    for i in range(tam_l):\n",
        "        num = vali_num(f\"[{i}].-Ingresa un numero entero: \")\n",
        "        lista.append(num)\n",
        "    print(f\"Lista = {lista}\")\n",
        "    calcular_media_mediana(lista)\n",
        "\n",
        "media_mediana()"
      ],
      "metadata": {
        "id": "Rb1Y1Sy4Yky0",
        "colab": {
          "base_uri": "https://localhost:8080/"
        },
        "outputId": "6d37977a-ba24-4bed-baac-6acc8f03ba2d"
      },
      "execution_count": 9,
      "outputs": [
        {
          "output_type": "stream",
          "name": "stdout",
          "text": [
            "MEDIA Y MEDIANA DE UNA LISTA\n",
            "Ingresa el tamaño para la lista: : 5\n",
            "[0].-Ingresa un numero entero: : 87\n",
            "[1].-Ingresa un numero entero: : 59\n",
            "[2].-Ingresa un numero entero: : 36\n",
            "[3].-Ingresa un numero entero: : 14\n",
            "[4].-Ingresa un numero entero: : 52\n",
            "Lista = [87, 59, 36, 14, 52]\n",
            "La media es: 49.6\n",
            "La mediana es: 52\n"
          ]
        }
      ]
    },
    {
      "cell_type": "markdown",
      "source": [
        "#### 6.- Escribe una función que calcule la media móvil de una lista de números enteros. La media móvil es el promedio de un número determinado de elementos consecutivos de la lista. Puedes utilizar unciclo y una variable de suma para calcular la media móvil de cada sublista y guardar los resultados en otra lista."
      ],
      "metadata": {
        "id": "OOBvNtTFYlkF"
      }
    },
    {
      "cell_type": "code",
      "source": [
        "def med_movil_padre():\n",
        "    clear_output()\n",
        "    print(\"MEDIA MOVIL\")\n",
        "    def media_movil(lista, n):\n",
        "        lista_medias = []\n",
        "        for i in range(len(lista) - n + 1):\n",
        "            suma = 0\n",
        "            print(f\"Sublista {i+1}: {lista[i:i+n:]}\")\n",
        "            suma = sum(lista[i:i+n:])\n",
        "            print(f\"Media movil de la sublista {i+1}: {suma/n} \")\n",
        "            lista_medias.append(suma / n)\n",
        "        return lista_medias\n",
        "    lista = []\n",
        "    tam_l = vali_num(\"Ingresa el tamaño para la lista: \")\n",
        "    for i in range(tam_l):\n",
        "        num = vali_num(f\"[{i}].-Ingresa un numero entero: \")\n",
        "        lista.append(num)\n",
        "    n = vali_num(\"Ingresa de cuantos elementos consecutivos deseas calcular la media movil: \")\n",
        "\n",
        "\n",
        "    lista_medias = media_movil(lista, n)\n",
        "    print(f\"Lista media movil: {lista_medias}\")"
      ],
      "metadata": {
        "id": "_mfHUkDaYrsk"
      },
      "execution_count": 10,
      "outputs": []
    },
    {
      "cell_type": "code",
      "source": [
        "def menu():\n",
        "    print(\"MENU:\")\n",
        "    print(\"1.-LISTA ARTISTAS\")\n",
        "    print(\"2.-FUNCION LISTA CON NUMEROS ALEATORIOS Y FUNCION LISTA INDICE Y VALOR\")\n",
        "    print(\"3.-SUMA LISTAS\")\n",
        "    print(\"4.-ELIMINAR DUPLICADOS DE UNA LISTA\")\n",
        "    print(\"5.-MEDIA Y MEDIANA DE UNA LISTA\")\n",
        "    print(\"6.-MEDIA MOVIL DE UNA LISTA\")\n",
        "    print(\"0.-SALIR\")"
      ],
      "metadata": {
        "id": "okzjtYdUYsdH"
      },
      "execution_count": 11,
      "outputs": []
    },
    {
      "cell_type": "code",
      "source": [
        "def submenu_programas2():\n",
        "    while True:\n",
        "        clear_output()\n",
        "        print(\"SUBMENU\")\n",
        "        print(\"1.-LISTA CON NUMEROS ALEATORIOS\")\n",
        "        print(\"2.-LISTA QUE RECIBE UNA LISTA E IMPRIME INDICE Y VALOR\")\n",
        "        print(\"0.-SALIR AL MENU\")\n",
        "        op = vali_num(\"Ingresa la funcion que deseas utilizar: \")\n",
        "        if op == 1:\n",
        "            lista_aleatoria()\n",
        "            input(\"Presiona ENTER para borrar la pantalla\")\n",
        "            clear_output()\n",
        "            continue\n",
        "        elif op == 2:\n",
        "            lista_indices()\n",
        "            input(\"Presiona ENTER para borrar la pantalla\")\n",
        "            clear_output()\n",
        "        elif op == 0:\n",
        "            clear_output()\n",
        "            break\n"
      ],
      "metadata": {
        "id": "Ey-SuG98a9tJ"
      },
      "execution_count": 12,
      "outputs": []
    },
    {
      "cell_type": "code",
      "source": [
        "while True:\n",
        "    menu()\n",
        "    op = vali_num(\"Ingresa la funcion que deseas utilizar: \")\n",
        "    if op == 1:\n",
        "        list_artistas()\n",
        "        input(\"Presiona ENTER para borrar la pantalla\")\n",
        "        clear_output()\n",
        "        continue\n",
        "    elif op == 2:\n",
        "        submenu_programas2()\n",
        "        continue\n",
        "    elif op == 3:\n",
        "        suma_listas_padre()\n",
        "        input(\"Presiona ENTER para borrar la pantalla\")\n",
        "        clear_output()\n",
        "        continue\n",
        "    elif op == 4:\n",
        "        duplicados()\n",
        "        input(\"Presiona ENTER para borrar la pantalla\")\n",
        "        clear_output()\n",
        "    elif op == 5:\n",
        "        media_mediana()\n",
        "        input(\"Presiona ENTER para borrar la pantalla\")\n",
        "        clear_output()\n",
        "    elif op == 6:\n",
        "        med_movil_padre()\n",
        "        input(\"Presiona ENTER para borrar la pantalla\")\n",
        "        clear_output()\n",
        "    elif op == 0:\n",
        "        break"
      ],
      "metadata": {
        "id": "horBLkZgYssj",
        "colab": {
          "base_uri": "https://localhost:8080/"
        },
        "outputId": "e6cdb191-ca21-47d3-e150-9d00667c5510"
      },
      "execution_count": null,
      "outputs": [
        {
          "output_type": "stream",
          "name": "stdout",
          "text": [
            " ARTISTAS FAVORITOS\n",
            "\n",
            "\n",
            " [1]BEYONCE --> 7 CARACTERES\n",
            " [2]ARIANA GRANDE --> 13 CARACTERES\n",
            " [3]ADELE --> 5 CARACTERES\n",
            " [4]TORI KELLY --> 10 CARACTERES\n",
            " [5]ZACH GORDON --> 11 CARACTERES\n",
            " [6]SAM SMITH --> 9 CARACTERES\n",
            " [7]BLACKPINK --> 9 CARACTERES\n",
            " [8]BANGTAN --> 7 CARACTERES\n",
            " [9]TWICE --> 5 CARACTERES\n",
            " [10]XG --> 2 CARACTERES\n"
          ]
        }
      ]
    }
  ]
}