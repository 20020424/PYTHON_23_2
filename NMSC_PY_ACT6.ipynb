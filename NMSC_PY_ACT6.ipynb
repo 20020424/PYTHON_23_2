{
  "nbformat": 4,
  "nbformat_minor": 0,
  "metadata": {
    "colab": {
      "provenance": [],
      "authorship_tag": "ABX9TyPUY9yqaqnwCgJeh/lS11hd",
      "include_colab_link": true
    },
    "kernelspec": {
      "name": "python3",
      "display_name": "Python 3"
    },
    "language_info": {
      "name": "python"
    }
  },
  "cells": [
    {
      "cell_type": "markdown",
      "metadata": {
        "id": "view-in-github",
        "colab_type": "text"
      },
      "source": [
        "<a href=\"https://colab.research.google.com/github/20020424/PYTHON_23_2/blob/main/NMSC_PY_ACT6.ipynb\" target=\"_parent\"><img src=\"https://colab.research.google.com/assets/colab-badge.svg\" alt=\"Open In Colab\"/></a>"
      ]
    },
    {
      "cell_type": "markdown",
      "source": [
        "*NANCY MARIA SIQUEIROS CHAVEZ*\n",
        "\n",
        "*MATRICULA: 366239*\n",
        "\n",
        "*FECHA: 22 DE SEPTIEMBRE DEL 2023*\n",
        "\n",
        "*A C T I V I D A D  6*\n",
        "\n",
        "*LINK A GITHUB*:"
      ],
      "metadata": {
        "id": "COMRldaVxE3n"
      }
    },
    {
      "cell_type": "code",
      "source": [
        "import random\n",
        "from IPython.display import clear_output"
      ],
      "metadata": {
        "id": "E0Kp2l0KDKCj"
      },
      "execution_count": 1,
      "outputs": []
    },
    {
      "cell_type": "code",
      "source": [
        "def vali_num(msge,ri=0,rf=100,msgError1=\"NUMERO FUERA DEL RANGO\",msgError2=\"INGRESA UN VALOR NUMERICO\"):\n",
        "    while True:\n",
        "        try:\n",
        "            num = int(input(f\"{msge}: \"))\n",
        "        except ValueError:\n",
        "            print (msgError2)\n",
        "            continue\n",
        "        if num < ri or num > rf:\n",
        "            print(f\"{msgError1} ({ri} a {rf})\")\n",
        "            continue\n",
        "        else:\n",
        "            break\n",
        "    return num"
      ],
      "metadata": {
        "id": "oU2hgWOXD1As"
      },
      "execution_count": 26,
      "outputs": []
    },
    {
      "cell_type": "markdown",
      "source": [
        "#### 1.- FUNCIÓN QUE LEA n CANTIDAD DE NÚMEROS HASTA QUE EL USUARIO LO DESEE, DESPLEGAR LA SUMA DE LOS NÚMEROS, MEDIA Y VALOR DE LOS NÚMEROS MAYORES Y MENORES."
      ],
      "metadata": {
        "id": "P8OMTCZ1xl-g"
      }
    },
    {
      "cell_type": "code",
      "execution_count": 35,
      "metadata": {
        "id": "WqDxRBYzw9Q5",
        "colab": {
          "base_uri": "https://localhost:8080/"
        },
        "outputId": "cd6d2508-bf15-4232-a892-f8787ac0bf53"
      },
      "outputs": [
        {
          "output_type": "stream",
          "name": "stdout",
          "text": [
            "Ingresa la cantidad de numeros a leer: : 5\n",
            "Ingresa el numero 1: 43\n",
            "Ingresa el numero 2: 65\n",
            "Ingresa el numero 3: 86\n",
            "Ingresa el numero 4: 56\n",
            "Ingresa el numero 5: 56\n",
            "\n",
            "\n",
            "La suma de los numeros es: 306\n",
            "La media de los numeros es: 61.2\n",
            "El numero mayor es: 86 \n",
            "El numero menor es: 43\n"
          ]
        }
      ],
      "source": [
        "def num_rango(n):\n",
        "\n",
        "        sumanum = 0\n",
        "        nummayor = 0\n",
        "        nummenor =99999\n",
        "        i=0\n",
        "        for i in range(n):\n",
        "            num = int(input(f\"Ingresa el numero {i+1}: \"))\n",
        "            sumanum += num\n",
        "            if num > nummayor:\n",
        "                nummayor = num\n",
        "            if num < nummenor:\n",
        "                nummenor = num\n",
        "        print(\"\\n\")\n",
        "        print(f\"La suma de los numeros es: {sumanum}\")\n",
        "        print(f\"La media de los numeros es: {sumanum/(i+1)}\")\n",
        "        print(f\"El numero mayor es: {nummayor} \")\n",
        "        print(f\"El numero menor es: {nummenor}\")\n",
        "\n",
        "msge = \"Ingresa la cantidad de numeros a leer: \"\n",
        "n = vali_num(msge)\n",
        "\n",
        "num_rango(n)\n"
      ]
    },
    {
      "cell_type": "markdown",
      "source": [
        "#### 2.- FUNCIÓN QUE GENERE 15 NÚMEROS IMPARES ENTRE 10 Y 60 o MÁXIMO DE 25 NÚMEROS. DESPLEGAR LA MEDIA DE LOS PARES Y MEDIA DE IMPARES.\n",
        "\n"
      ],
      "metadata": {
        "id": "edgTRW9XxzeI"
      }
    },
    {
      "cell_type": "code",
      "source": [
        "def rand_num():\n",
        "    impar = 1\n",
        "    par = 1\n",
        "    i = 0\n",
        "    sumapar = 0\n",
        "    sumaimpar = 0\n",
        "    while impar <= 15 and i < 25:\n",
        "        num = random.randint(10,60)\n",
        "        print(f\"Numero {i+1}: {num} \", end = \" \")\n",
        "        if num % 2 == 1:\n",
        "            print(\"IMPAR\")\n",
        "            impar += 1\n",
        "            sumaimpar += num\n",
        "        else:\n",
        "            print(\"PAR\")\n",
        "            par += 1\n",
        "            sumapar += num\n",
        "        i +=1\n",
        "    print(\"---------------------------------------\")\n",
        "    print(f\"La media de los pares es: {round(sumapar/par,2)}\")\n",
        "    print(f\"La media de los impares es: {round(sumaimpar/impar,2)}\")\n",
        "\n",
        "rand_num()"
      ],
      "metadata": {
        "id": "bxkj2hrIx3Cq",
        "colab": {
          "base_uri": "https://localhost:8080/"
        },
        "outputId": "71894324-ad30-4c26-b3df-0028b7547306"
      },
      "execution_count": 4,
      "outputs": [
        {
          "output_type": "stream",
          "name": "stdout",
          "text": [
            "Numero 1: 37  IMPAR\n",
            "Numero 2: 58  PAR\n",
            "Numero 3: 40  PAR\n",
            "Numero 4: 24  PAR\n",
            "Numero 5: 11  IMPAR\n",
            "Numero 6: 29  IMPAR\n",
            "Numero 7: 56  PAR\n",
            "Numero 8: 56  PAR\n",
            "Numero 9: 54  PAR\n",
            "Numero 10: 13  IMPAR\n",
            "Numero 11: 23  IMPAR\n",
            "Numero 12: 39  IMPAR\n",
            "Numero 13: 57  IMPAR\n",
            "Numero 14: 36  PAR\n",
            "Numero 15: 13  IMPAR\n",
            "Numero 16: 25  IMPAR\n",
            "Numero 17: 14  PAR\n",
            "Numero 18: 59  IMPAR\n",
            "Numero 19: 10  PAR\n",
            "Numero 20: 19  IMPAR\n",
            "Numero 21: 45  IMPAR\n",
            "Numero 22: 45  IMPAR\n",
            "Numero 23: 24  PAR\n",
            "Numero 24: 20  PAR\n",
            "Numero 25: 46  PAR\n",
            "---------------------------------------\n",
            "La media de los pares es: 33.69\n",
            "La media de los impares es: 29.64\n"
          ]
        }
      ]
    },
    {
      "cell_type": "markdown",
      "source": [
        "#### 3.- FUNCIÓN QUE SIRVA PARA LEER UN RANGO DADO POR EL USUARIO. REPETIR ESTA ACCIÓN HASTA QUE EL USUARIO LO DESEE, DESPLEGAR CANTIDAD DE NUMEROS Y PROMEDIO DE LOS NUMEROS.."
      ],
      "metadata": {
        "id": "LVhv72K-x3XE"
      }
    },
    {
      "cell_type": "code",
      "source": [
        "def vali_numrango():\n",
        "    def validar_num(ri, rf, msge=\"DAME UN NUMERO ENTRE \", msgError1=\"NUMERO FUERA DEL RANGO\", msgError2=\"INGRESA UN NUMERO QUE ESTE EN EL RANGO\"):\n",
        "        sumanum = 0\n",
        "        nums = 0\n",
        "        while True:\n",
        "            try:\n",
        "                num = int(input(f\"{msge} {ri} y {rf}: \"))\n",
        "            except ValueError:\n",
        "                print(msgError2)\n",
        "                continue\n",
        "            else:\n",
        "                nums += 1\n",
        "                sumanum += num\n",
        "                if num < ri or num > rf:\n",
        "                    print(msgError2)\n",
        "                else:\n",
        "                    print(\"FELICIDADES, EL NUMERO ESTA DENTRO DEL RANGO\")\n",
        "                    break\n",
        "        print(\"---------------------------------------------\")\n",
        "        print(f\"La cantidad de números es: {nums}\")\n",
        "        print(f\"El promedio de los números es: {sumanum / nums}\")\n",
        "\n",
        "    msge = \"Ingresa el rango inicial: \"\n",
        "    ri = int(input(msge))\n",
        "    msge = \"Ingresa el rango final: \"\n",
        "    rf = int(input(msge))\n",
        "\n",
        "    validar_num(ri, rf)\n",
        "\n",
        "\n",
        "vali_numrango()\n"
      ],
      "metadata": {
        "id": "T45wz9CZx7kB",
        "colab": {
          "base_uri": "https://localhost:8080/"
        },
        "outputId": "bf98e0f7-97b9-4382-caeb-9a3a483012cb"
      },
      "execution_count": 27,
      "outputs": [
        {
          "output_type": "stream",
          "name": "stdout",
          "text": [
            "Ingresa el rango inicial: 1\n",
            "Ingresa el rango final: 20\n",
            "DAME UN NUMERO ENTRE  1 y 20: 8\n",
            "FELICIDADES, EL NUMERO ESTA DENTRO DEL RANGO\n",
            "---------------------------------------------\n",
            "La cantidad de números es: 1\n",
            "El promedio de los números es: 8.0\n"
          ]
        }
      ]
    },
    {
      "cell_type": "markdown",
      "source": [
        "#### 4.- FUNCIÓN QUE RECIBA COMO PARÁMETRO LOS VALORES PARA EL ÁREA DE UN TRIANGULO Y RETORNE SU RESULTADO"
      ],
      "metadata": {
        "id": "3pFObQ7lx8VR"
      }
    },
    {
      "cell_type": "code",
      "source": [
        "def area_tri():\n",
        "    msge = \"Ingresa la base del triangulo\"\n",
        "    base = vali_num(msge)\n",
        "    msge = \"Ingresa la altura del triangulo\"\n",
        "    altura = vali_num(msge)\n",
        "    def area(base,altura):\n",
        "        area = (base *  altura) / 2\n",
        "        print(f\"El area del triangulo es: {area}\")\n",
        "\n",
        "    area(base,altura)\n",
        "\n",
        "area_tri()"
      ],
      "metadata": {
        "id": "PkmBv0uvyCDC",
        "colab": {
          "base_uri": "https://localhost:8080/"
        },
        "outputId": "c97f1015-c03e-46e7-b952-6d15a3189412"
      },
      "execution_count": 6,
      "outputs": [
        {
          "output_type": "stream",
          "name": "stdout",
          "text": [
            "Ingresa la base del triangulo: 45\n",
            "Ingresa la altura del triangulo: 15\n",
            "El area del triangulo es: 337.5\n"
          ]
        }
      ]
    },
    {
      "cell_type": "markdown",
      "source": [
        "#### 5.- FUNCION QUE SIRVA QUE SIRVA PARA EVALUAR EL PROMEDIO DE 3 CALIFICACIONES DADAS, SI EL USUARIO SU CALIFICACION ES APROBADA MANDAR MSGE QUE DIGA \"felicidades avanzas al siguiente semestre\", SI LA CALIFICACIONE ESTA REPROBADA EL MENSAGE \"repetir materia \" EL ALUMNO TENDRA UN MAXIMO DE CURSAR 3 VESES LA MATERIA, SI LA REPRUEBA 3 VESES MANDAR MSGE \" lastima estas fuera de la UABC\"\n",
        "\n"
      ],
      "metadata": {
        "id": "tamAtZ5IyCiJ"
      }
    },
    {
      "cell_type": "code",
      "source": [
        "def evaluar_prom():\n",
        "    sumacal = 0\n",
        "    repetir = 0\n",
        "    while True:\n",
        "        try:\n",
        "            print(\"-----------------------\")\n",
        "            print(f\"INTENTO {repetir+1}\")\n",
        "            for i in range(3):\n",
        "                msge = f\"Ingresa la calificacion {i+1}\"\n",
        "\n",
        "                cal = vali_num(msge,ri=0,rf=100)\n",
        "\n",
        "                sumacal += cal\n",
        "\n",
        "            prom = sumacal / 3\n",
        "\n",
        "            if cal < 0 or cal > 100:\n",
        "                raise ValueError(\"El número debe estar entre 0 y 100.\")\n",
        "\n",
        "        except ValueError as e:\n",
        "            print(\"Error:\", e)\n",
        "\n",
        "        else:\n",
        "            print(f\"Tu promedio es: {prom}\")\n",
        "            if repetir == 2:\n",
        "                print(\"LASTIMA, ESTAS FUERA DE LA UABC\")\n",
        "                break\n",
        "            if prom >= 60:\n",
        "                print(\"FELICIDADES, AVANZAS AL SIGUIENTE SEMESTRE\")\n",
        "                break\n",
        "            else:\n",
        "                print(\"REPETIR MATERIA\")\n",
        "                repetir += 1\n",
        "                sumacal = 0\n",
        "                continue"
      ],
      "metadata": {
        "id": "qpF41ijayHnI"
      },
      "execution_count": 28,
      "outputs": []
    },
    {
      "cell_type": "code",
      "source": [
        "def menu():\n",
        "    print(\"MENU:\")\n",
        "    print(\"1.-NUMEROS RANGO\")\n",
        "    print(\"2.-NUMEROS PARES E IMPARES\")\n",
        "    print(\"3.-NUMEROS EN RANGO POR EL USUARIO\")\n",
        "    print(\"4.-AREA DE UN TRIANGULO\")\n",
        "    print(\"5.-EVALUAR PROMEDIO\")\n",
        "    print(\"0.-SALIR\")"
      ],
      "metadata": {
        "id": "_52O7R84yJqy"
      },
      "execution_count": 8,
      "outputs": []
    },
    {
      "cell_type": "code",
      "source": [
        "while True:\n",
        "    menu()\n",
        "    op = int(input(\"Ingresa la funcion que deseas utilizar: \"))\n",
        "    if op == 1:\n",
        "        num_rango(n)\n",
        "        input(\"Presiona ENTER para borrar la pantalla\")\n",
        "        clear_output()\n",
        "        continue\n",
        "    elif op == 2:\n",
        "        rand_num()\n",
        "        input(\"Presiona ENTER para borrar la pantalla\")\n",
        "        clear_output()\n",
        "        continue\n",
        "    elif op == 3:\n",
        "        vali_numrango()\n",
        "        input(\"Presiona ENTER para borrar la pantalla\")\n",
        "        clear_output()\n",
        "        continue\n",
        "    elif op == 4:\n",
        "        area_tri()\n",
        "        input(\"Presiona ENTER para borrar la pantalla\")\n",
        "        clear_output()\n",
        "        continue\n",
        "    elif op == 5:\n",
        "        evaluar_prom()\n",
        "        input(\"Presiona ENTER para borrar la pantalla\")\n",
        "        clear_output()\n",
        "        continue\n",
        "    elif op == 0:\n",
        "        break"
      ],
      "metadata": {
        "id": "AO_AJpZ0yJYo",
        "colab": {
          "base_uri": "https://localhost:8080/"
        },
        "outputId": "3126e067-b7e2-488e-8b49-45d53316bb03"
      },
      "execution_count": null,
      "outputs": [
        {
          "output_type": "stream",
          "name": "stdout",
          "text": [
            "MENU:\n",
            "1.-NUMEROS RANGO\n",
            "2.-NUMEROS PARES E IMPARES\n",
            "3.-NUMEROS EN RANGO POR EL USUARIO\n",
            "4.-AREA DE UN TRIANGULO\n",
            "5.-EVALUAR PROMEDIO\n",
            "0.-SALIR\n",
            "Ingresa la funcion que deseas utilizar: 5\n",
            "-----------------------\n",
            "INTENTO 1\n",
            "Ingresa la calificacion 1: 34\n",
            "Ingresa la calificacion 2: 64\n",
            "Ingresa la calificacion 3: 32\n",
            "Tu promedio es: 43.333333333333336\n",
            "REPETIR MATERIA\n",
            "-----------------------\n",
            "INTENTO 2\n",
            "Ingresa la calificacion 1: 89\n",
            "Ingresa la calificacion 2: 65\n",
            "Ingresa la calificacion 3: 45\n",
            "Tu promedio es: 66.33333333333333\n",
            "FELICIDADES, AVANZAS AL SIGUIENTE SEMESTRE\n"
          ]
        }
      ]
    }
  ]
}