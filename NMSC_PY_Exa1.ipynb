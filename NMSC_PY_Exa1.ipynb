{
  "nbformat": 4,
  "nbformat_minor": 0,
  "metadata": {
    "colab": {
      "provenance": [],
      "authorship_tag": "ABX9TyOlVkHd7UYxzBv2QtuEeMhR",
      "include_colab_link": true
    },
    "kernelspec": {
      "name": "python3",
      "display_name": "Python 3"
    },
    "language_info": {
      "name": "python"
    }
  },
  "cells": [
    {
      "cell_type": "markdown",
      "metadata": {
        "id": "view-in-github",
        "colab_type": "text"
      },
      "source": [
        "<a href=\"https://colab.research.google.com/github/20020424/PYTHON_23_2/blob/main/NMSC_PY_Exa1.ipynb\" target=\"_parent\"><img src=\"https://colab.research.google.com/assets/colab-badge.svg\" alt=\"Open In Colab\"/></a>"
      ]
    },
    {
      "cell_type": "markdown",
      "source": [
        "#### funcion que retorne un numero dentro de un rango dado, validar el numero que cumpla el requisito del rango, la funcion debera validar que el programa no marque error por introducir informacion erronea (usar try except).\n",
        "\n",
        "Escribir codigo que mande llamar la funcion y desplegar el resultado"
      ],
      "metadata": {
        "id": "zY6jPtn55uTy"
      }
    },
    {
      "cell_type": "code",
      "execution_count": 1,
      "metadata": {
        "colab": {
          "base_uri": "https://localhost:8080/"
        },
        "id": "-Kpm6dqE5ZYk",
        "outputId": "eb2cd9ea-8b3e-43d4-8506-6744fd6697be"
      },
      "outputs": [
        {
          "output_type": "stream",
          "name": "stdout",
          "text": [
            "Ingresa un numero entre 1 y 20:24\n",
            "Numero fuera del rango\n",
            "Ingresa un numero entre 1 y 20:45\n",
            "Numero fuera del rango\n",
            "Ingresa un numero entre 1 y 20:7\n",
            "El numero es: 7.0\n"
          ]
        }
      ],
      "source": [
        "def validar_rango(ri,rf):\n",
        "    while True:\n",
        "        try:\n",
        "            num = float(input(f\"Ingresa un numero entre {ri} y {rf}:\"))\n",
        "            if num > ri and num < rf:\n",
        "                return num\n",
        "            else:\n",
        "                print(\"Numero fuera del rango\")\n",
        "        except:\n",
        "            print(\"Error, el numero no es valido\")\n",
        "\n",
        "num_validado = validar_rango(1,20)\n",
        "print(f\"El numero es: {num_validado}\")"
      ]
    },
    {
      "cell_type": "markdown",
      "source": [
        "#### funcion que retorne el resultado del area de un triangulo\n",
        "Escribir codigo que mande llamar la funcion y desplegar el resultado,\n",
        "VALIDAR da tos entrada"
      ],
      "metadata": {
        "id": "W4iQk_Sr7LQ1"
      }
    },
    {
      "cell_type": "code",
      "source": [
        "base = int(input(\"Ingresa la base del triangulo: \"))\n",
        "altura = int(input(\"Ingresa la altura del triangulo: \"))\n",
        "def area_tri(base,altura):\n",
        "    area = (base * altura) / 2\n",
        "    return area\n",
        "area = area_tri(base,altura)\n",
        "print(f\"El area del triangulo es: {area}\")"
      ],
      "metadata": {
        "colab": {
          "base_uri": "https://localhost:8080/"
        },
        "id": "620WPs_TCqFG",
        "outputId": "3208aedb-2cc1-49fe-928c-d863dc29db5a"
      },
      "execution_count": 25,
      "outputs": [
        {
          "output_type": "stream",
          "name": "stdout",
          "text": [
            "Ingresa la base del triangulo: 100\n",
            "Ingresa la altura del triangulo: 45\n",
            "El area del triangulo es: 2250.0\n"
          ]
        }
      ]
    }
  ]
}