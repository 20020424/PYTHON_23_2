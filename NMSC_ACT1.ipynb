{
  "nbformat": 4,
  "nbformat_minor": 0,
  "metadata": {
    "colab": {
      "provenance": [],
      "authorship_tag": "ABX9TyMrBeaJhn4+ExUdML5LwzrL",
      "include_colab_link": true
    },
    "kernelspec": {
      "name": "python3",
      "display_name": "Python 3"
    },
    "language_info": {
      "name": "python"
    }
  },
  "cells": [
    {
      "cell_type": "markdown",
      "metadata": {
        "id": "view-in-github",
        "colab_type": "text"
      },
      "source": [
        "<a href=\"https://colab.research.google.com/github/20020424/PYTHON_23_2/blob/main/NMSC_ACT1.ipynb\" target=\"_parent\"><img src=\"https://colab.research.google.com/assets/colab-badge.svg\" alt=\"Open In Colab\"/></a>"
      ]
    },
    {
      "cell_type": "markdown",
      "source": [
        "** A C T I V I D A D  1 * *\n",
        "\n",
        "FECHA: 15 DE AGOSTO DEL 2023\n",
        "\n",
        "*Nancy Maria Siqueiros Chavez*\n",
        "\n",
        "****"
      ],
      "metadata": {
        "id": "8dyLQ7qIFvh7"
      }
    },
    {
      "cell_type": "markdown",
      "source": [
        "#### Ejercicio 1.- Programa en Python Mostrar un mensaje que diga “HOLA MUNDO” en un solo renglón usando 2 print"
      ],
      "metadata": {
        "id": "T4BzIKky3Yyx"
      }
    },
    {
      "cell_type": "code",
      "source": [
        "print(\"¡Hola\" , end=\" \"); print(\"Mundo!\")"
      ],
      "metadata": {
        "colab": {
          "base_uri": "https://localhost:8080/"
        },
        "id": "5yskGMYY2PGX",
        "outputId": "63f845cb-6060-40f5-e964-0b70fd52cc06"
      },
      "execution_count": 1,
      "outputs": [
        {
          "output_type": "stream",
          "name": "stdout",
          "text": [
            "¡Hola Mundo!\n"
          ]
        }
      ]
    },
    {
      "cell_type": "markdown",
      "source": [
        "#### Ejercicio 2.- Programa en Python que lea 2 números, realizar la suma y desplegar la suma de los 2 números."
      ],
      "metadata": {
        "id": "i48ggNFs5GT7"
      }
    },
    {
      "cell_type": "code",
      "source": [
        "num_1 = int(input(\"Dame el primer numero:\"))\n",
        "num_2 = int(input(\"Dame el segundo numero:\"))\n",
        "\n",
        "suma = num_1 + num_2\n",
        "\n",
        "print(\"La suma es:\", num_1, \"+\" , num_2, \"=\" , suma)\n"
      ],
      "metadata": {
        "colab": {
          "base_uri": "https://localhost:8080/"
        },
        "id": "NhvfElDJ5cdv",
        "outputId": "72aba58d-8780-47e0-b02d-bc6a41fde06e"
      },
      "execution_count": 2,
      "outputs": [
        {
          "output_type": "stream",
          "name": "stdout",
          "text": [
            "Dame el primer numero:23\n",
            "Dame el segundo numero:23\n",
            "23 + 23 = 46\n"
          ]
        }
      ]
    },
    {
      "cell_type": "markdown",
      "source": [
        "#### Ejercicio 3.- Programa en Python que lea 2 números y realice las 4 operaciones básicas."
      ],
      "metadata": {
        "id": "pFE8xfT-BCLC"
      }
    },
    {
      "cell_type": "code",
      "source": [
        "num1 = int(input(\"Dame el primer numero:\"))\n",
        "num2 = int(input(\"Dame el segundo numero:\"))\n",
        "\n",
        "sum = num1 + num2\n",
        "rest = num1 - num2\n",
        "mult = num1 * num2\n",
        "div = num1 / num2\n",
        "\n",
        "print(\"La suma es:\", num1, \"+\", num2 , \"=\", sum)\n",
        "print(\"La resta es:\", num1, \"-\", num2 , \"=\", rest)\n",
        "print(\"La multiplicacion es:\", num1, \"x\", num2 , \"=\" , mult)\n",
        "print(\"La division es:\", num1, \"/\", num2 , \"=\" , div)\n"
      ],
      "metadata": {
        "colab": {
          "base_uri": "https://localhost:8080/"
        },
        "id": "HxP2vyGqBgPO",
        "outputId": "69f8416e-b189-476a-8175-4494bd8da35b"
      },
      "execution_count": 4,
      "outputs": [
        {
          "output_type": "stream",
          "name": "stdout",
          "text": [
            "Dame el primer numero:10\n",
            "Dame el segundo numero:5\n",
            "La suma es: 10 + 5 = 15\n",
            "La resta es: 10 - 5 = 5\n",
            "La multiplicacion es: 10 x 5 = 50\n",
            "La division es: 10 / 5 = 2.0\n"
          ]
        }
      ]
    },
    {
      "cell_type": "markdown",
      "source": [
        "#### Ejercicio 4.- Programa en Python Que sirva para calcular el área de un triángulo."
      ],
      "metadata": {
        "id": "_nSy0azZIVjy"
      }
    },
    {
      "cell_type": "code",
      "source": [
        "base = float(input(\"Ingresa la base del triangulo: \"))\n",
        "\n",
        "altura = float(input(\"Ingresa la altura del triangulo: \"))\n",
        "\n",
        "area = (base * altura) / 2\n",
        "\n",
        "print(\"El area del triangulo es:\", area)"
      ],
      "metadata": {
        "colab": {
          "base_uri": "https://localhost:8080/"
        },
        "id": "SN6yxGF_InJM",
        "outputId": "fc9bde92-9860-4d65-c580-2c9185acc454"
      },
      "execution_count": 6,
      "outputs": [
        {
          "output_type": "stream",
          "name": "stdout",
          "text": [
            "Ingresa la base del triangulo: 5.6\n",
            "Ingresa la altura del triangulo: 10.4\n",
            "El área del triángulo es: 29.119999999999997\n"
          ]
        }
      ]
    },
    {
      "cell_type": "markdown",
      "source": [
        "#### Ejercicio 5.- Programa en Python que lea una medida en centímetros y desplegar la misma medida pero convertida en pies y pulgadas."
      ],
      "metadata": {
        "id": "LwroV4B8Kq6k"
      }
    },
    {
      "cell_type": "code",
      "source": [
        "centi = float(input(\"Dame la medida en centimetros:\"))\n",
        "\n",
        "centi_a_pies = centi * 0.0328084\n",
        "centi_a_pulg = centi * 0.393701\n",
        "\n",
        "print(f\"La medida en pies es de: {centi_a_pies} y la medida en pulgadas es de: {centi_a_pulg}\")\n"
      ],
      "metadata": {
        "colab": {
          "base_uri": "https://localhost:8080/"
        },
        "id": "c1QmnPWZK4L5",
        "outputId": "0cbd8a08-5ae9-460a-a79f-958f57c8d763"
      },
      "execution_count": 7,
      "outputs": [
        {
          "output_type": "stream",
          "name": "stdout",
          "text": [
            "Dame la medida en centimetros:50\n",
            "La medida en pies es de: 1.64042 y la medida en pulgadas es de: 19.68505\n"
          ]
        }
      ]
    },
    {
      "cell_type": "markdown",
      "source": [
        "#### Ejercicio 6.- Programa en Python que lea una temperatura en grados centígrados y desplegarla en Grados Fahrenheit y grados kelvin."
      ],
      "metadata": {
        "id": "mNvFuxwbNduH"
      }
    },
    {
      "cell_type": "code",
      "source": [
        "cent = float(input(\"Dame la temperatura en centigrados:\"))\n",
        "\n",
        "cent_a_fahr = (cent * 9/5) + 32\n",
        "cent_a_kel = cent + 273.15\n",
        "\n",
        "print(f\"La temperatura en Fahrenheit es de: {cent_a_fahr} y la temperatura en Kelvin es de: {cent_a_kel}\")\n"
      ],
      "metadata": {
        "colab": {
          "base_uri": "https://localhost:8080/"
        },
        "id": "ZxUoVTiWNptp",
        "outputId": "74bbd6fc-b500-4250-c1a7-52c0e7152152"
      },
      "execution_count": 8,
      "outputs": [
        {
          "output_type": "stream",
          "name": "stdout",
          "text": [
            "Dame la temperatura en centigrados:45\n",
            "La temperatura en Fahrenheit es de: 113.0 y la temperatura en Kelvin es de: 318.15\n"
          ]
        }
      ]
    },
    {
      "cell_type": "markdown",
      "source": [
        "#### Ejercicio 7.- Programa en Python que lea 4 calificaciones de un alumno, desplegar el promedio del alumno."
      ],
      "metadata": {
        "id": "vZ9xdaTMzT1B"
      }
    },
    {
      "cell_type": "code",
      "source": [
        "calf_1 = int(input(\"Dame la primera calificacion:\"))\n",
        "calf_2 = int(input(\"Dame la segunda calificacion:\"))\n",
        "calf_3 = int(input(\"Dame la tercera calificacion:\"))\n",
        "calf_4 = int(input(\"Dame la cuarta calificacion:\"))\n",
        "\n",
        "prom = (calf_1 + calf_2 + calf_3 + calf_4) / 4\n",
        "\n",
        "print(\"El promedio del alumno es de:\", prom)\n"
      ],
      "metadata": {
        "colab": {
          "base_uri": "https://localhost:8080/"
        },
        "id": "GGEoaJ2Jzeut",
        "outputId": "3594afc2-c6e4-4c7c-b9b2-a1883c59ef67"
      },
      "execution_count": 9,
      "outputs": [
        {
          "output_type": "stream",
          "name": "stdout",
          "text": [
            "Dame la primera calificacion:45\n",
            "Dame la segunda calificacion:89\n",
            "Dame la tercera calificacion:74\n",
            "Dame la cuarta calificacion:97\n",
            "El promedio del alumno es de: 76.25\n"
          ]
        }
      ]
    }
  ]
}