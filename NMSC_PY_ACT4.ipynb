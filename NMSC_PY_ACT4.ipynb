{
  "nbformat": 4,
  "nbformat_minor": 0,
  "metadata": {
    "colab": {
      "provenance": [],
      "authorship_tag": "ABX9TyP7cRfSq9LI64hdabCbwGD7",
      "include_colab_link": true
    },
    "kernelspec": {
      "name": "python3",
      "display_name": "Python 3"
    },
    "language_info": {
      "name": "python"
    }
  },
  "cells": [
    {
      "cell_type": "markdown",
      "metadata": {
        "id": "view-in-github",
        "colab_type": "text"
      },
      "source": [
        "<a href=\"https://colab.research.google.com/github/20020424/PYTHON_23_2/blob/main/NMSC_PY_ACT4.ipynb\" target=\"_parent\"><img src=\"https://colab.research.google.com/assets/colab-badge.svg\" alt=\"Open In Colab\"/></a>"
      ]
    },
    {
      "cell_type": "markdown",
      "source": [
        "*NANCY MARIA SIQUEIROS CHAVEZ*\n",
        "\n",
        "*MATRICULA: 366239*\n",
        "\n",
        "*FECHA: 5 DE SEPTIEMBRE DEL 2023*\n",
        "\n",
        "*A C T I V I D A D 4*"
      ],
      "metadata": {
        "id": "ZmmfEhvs-yio"
      }
    },
    {
      "cell_type": "markdown",
      "source": [
        "*REALIZA LOS SIGUIENTES EJERCICIOS USANDO LA FORMA ADECUADA Y USANDO try Except NO DEBERA FALLAR EL PROGRAMA.*"
      ],
      "metadata": {
        "id": "LHqXHFHYBiyk"
      }
    },
    {
      "cell_type": "markdown",
      "source": [
        "####1.- Programa en python   que lea 3 calificaciones calcule el promedio del alumno y desplegar:\n",
        "\n",
        "Si prom < 30 Repetir\n",
        "\n",
        "Si prom >=30 y prom <60 extraordinario\n",
        "\n",
        "Si prom >=60 y prom <70 suficiente\n",
        "\n",
        "Si prom >=70 y prom <80 Regular\n",
        "\n",
        "Si prom >=80 y prom <90 bien\n",
        "\n",
        "Si prom >=90 y prom <98 muy bien\n",
        "\n",
        "Si prom >=98 y prom <=100 excelente\n",
        "\n",
        "Si prom >100 Error en promedio\n",
        "\n",
        "Realizar el algoritmo optimizado"
      ],
      "metadata": {
        "id": "2S29Uxo4Bsek"
      }
    },
    {
      "cell_type": "code",
      "execution_count": null,
      "metadata": {
        "id": "aBdc__Jc-qQL",
        "colab": {
          "base_uri": "https://localhost:8080/"
        },
        "outputId": "bd31d7a8-3b50-44af-b649-61399aefbdfe"
      },
      "outputs": [
        {
          "output_type": "stream",
          "name": "stdout",
          "text": [
            "Dame la primera calificacion: hdk\n",
            "Dame la segunda calificacion: ujdlk\n",
            "Dame la tercera calificacion: jkld\n",
            "Error, solo ingresa numero, no letras\n"
          ]
        }
      ],
      "source": [
        "calif1 = input(\"Dame la primera calificacion: \")\n",
        "calif2 = input(\"Dame la segunda calificacion: \")\n",
        "calif3 = input(\"Dame la tercera calificacion: \")\n",
        "\n",
        "try:\n",
        "\n",
        "    prom = (int(calif1) + int(calif2) + int(calif3)) / 3\n",
        "\n",
        "except ValueError:\n",
        "    print(\"Error, solo ingresa numero, no letras\")\n",
        "\n",
        "else:\n",
        "\n",
        "    if prom < 30:\n",
        "        print(\" R E P E T I R\")\n",
        "    elif prom < 60:\n",
        "        print(\"E X T R A O R D I N A R I O\")\n",
        "    elif prom < 70:\n",
        "        print(\"S U F I C I E N T E\")\n",
        "    elif prom < 80:\n",
        "        print(\"R E G U L A R\")\n",
        "    elif prom < 90:\n",
        "        print(\"B I E N\")\n",
        "    elif prom < 98:\n",
        "        print(\"M U Y B I E N\")\n",
        "    elif prom <= 100:\n",
        "        print(\"E X C E L E N T E\")\n",
        "    else:\n",
        "        print(\"Error de promedio\")\n"
      ]
    },
    {
      "cell_type": "markdown",
      "source": [
        "####2.- Programa en Python que sirva para calcular el salario semanal de un trabajador donde se obtiene como dato de entrada las horas semanales trabajadas, el salario por hora. El programa deberá calcular el salario normal, salario extra y salario total, considerando lo siguiente:\n",
        "\n",
        "*   Jornada Normal de 40 horas.\n",
        "*   El salario normal se considera las horas trabajadas menores o igual a la jornada normal\n",
        "*   Salario extra se considera las horas trabajadas mayores a la jornada normal y se pagan dobles las primeras 9 y triples a partir de la décima hora extra\n",
        "\n",
        "Nota: Desplegar todos los datos (Salario x hora, Horas Trabajadas, Salario normal, Salario extra y Salario Total)"
      ],
      "metadata": {
        "id": "-i5nPhweGSTj"
      }
    },
    {
      "cell_type": "code",
      "source": [
        "try:\n",
        "    horas_trabajadas = float(input(\"Ingresa las horas trabajadas en la semana: \"))\n",
        "    salario_hora = float(input(\"Ingresa el salario por hora: \"))\n",
        "\n",
        "    if horas_trabajadas <= 40:\n",
        "        salario_normal = horas_trabajadas * salario_hora\n",
        "        salario_extra =0\n",
        "    else:\n",
        "        salario_normal = 40 * salario_hora\n",
        "        horas_extra = horas_trabajadas - 40\n",
        "        if horas_extra <= 9:\n",
        "            salario_extra = horas_extra * (salario_hora * 2)\n",
        "        else:\n",
        "            salario_extra = 9 * (salario_hora * 2) + (horas_extra - 9) * (salario_hora * 3)\n",
        "except ValueError:\n",
        "    print(\"Ingresa numeros, no letras\")\n",
        "\n",
        "else:\n",
        "    salario_total = salario_normal + salario_extra\n",
        "    print(\"El salario normal es: $\", salario_normal)\n",
        "    print(\"El salario extra es: $\", salario_extra)\n",
        "    print(\"El salario total es: $\", salario_total)\n"
      ],
      "metadata": {
        "colab": {
          "base_uri": "https://localhost:8080/"
        },
        "id": "iFbj8qFS4CXW",
        "outputId": "94efc9ac-7448-4fdc-e2bd-e9d44d07ca8a"
      },
      "execution_count": null,
      "outputs": [
        {
          "output_type": "stream",
          "name": "stdout",
          "text": [
            "Ingresa las horas trabajadas en la semana: jkd\n",
            "Ingresa numeros, no letras\n"
          ]
        }
      ]
    },
    {
      "cell_type": "markdown",
      "source": [
        "#### 3.- Programa en Python que sirva para calcular el Total a pagar por consumo de agua, donde el dato de entrada son los M3 de agua consumidos, Tomar en cuenta que se cobra escalonada de la Siguiente manera:\n",
        "\n",
        "Rango1: 0 al 4 M3 $50 x facturación sin importar cuánto consumió en este rango\n",
        "\n",
        "Rango2: 5 a 15 M3 $8.00 x M3\n",
        "\n",
        "Rango3: 16 a 50 M3 $10.00 x M3\n",
        "\n",
        "Rango4: 51 M3 en adelante $11.00 x M3\n",
        "\n",
        "Nota: Desplegar SubTotal, Iva(16%), y Total a pagar."
      ],
      "metadata": {
        "id": "jz7908Ep2ARZ"
      }
    },
    {
      "cell_type": "code",
      "source": [
        "try:\n",
        "    consumo = int(input(\"Ingresa cuantros metros cubicos consumiste de agua: \"))\n",
        "    if consumo > 4:\n",
        "        if consumo > 15:\n",
        "            if consumo > 50:\n",
        "                metrosextra = consumo - 50\n",
        "                subtotal = 50 +(11*8)+(35*10)+(metrosextra*11)\n",
        "            else:\n",
        "                metrosextra = consumo - 15\n",
        "                subtotal = 50 +(11*8)+(metrosextra*10)\n",
        "        else:\n",
        "            metrosextra = consumo - 4\n",
        "            subtotal = 50 + (metrosextra*8)\n",
        "    else:\n",
        "         subtotal = 50\n",
        "\n",
        "except ValueError:\n",
        "    print(\"Dame numeros, no letras\")\n",
        "\n",
        "else:\n",
        "    iva = subtotal * 0.16\n",
        "    total = subtotal + iva\n",
        "    print(f\"Subtotal: {subtotal} \")\n",
        "    print(f\"IVA(16%): {iva} \")\n",
        "    print(f\"Total a pagar: {total} \")\n",
        "\n"
      ],
      "metadata": {
        "colab": {
          "base_uri": "https://localhost:8080/"
        },
        "id": "ZzusTRve2A3c",
        "outputId": "7129fb53-427b-4476-d225-67142461d561"
      },
      "execution_count": null,
      "outputs": [
        {
          "output_type": "stream",
          "name": "stdout",
          "text": [
            "Ingresa cuantros metros cubicos consumiste de agua: jlkjf\n",
            "Dame numeros, no letras\n"
          ]
        }
      ]
    },
    {
      "cell_type": "markdown",
      "source": [
        "#### 4- En la materia de Metodología de la programación se aplican 5 exámenes, calcular el promedio final de la materia donde la calificación menor de los exámenes se anula y el promedio se calcula en base a 4 exámenes.\n",
        "\n",
        "Desplegar el promedio final. y cual es la mas baja que se elimino."
      ],
      "metadata": {
        "id": "v9H_Ppj72GSZ"
      }
    },
    {
      "cell_type": "code",
      "source": [
        "try:\n",
        "    examen1 = int(input(\"Ingresa la calificación del primer examen: \"))\n",
        "    examen2 = int(input(\"Ingresa la calificación del segundo examen: \"))\n",
        "    examen3 = int(input(\"Ingresa la calificación del tercer examen: \"))\n",
        "    examen4 = int(input(\"Ingresa la calificación del cuarto examen: \"))\n",
        "    examen5 = int(input(\"Ingresa la calificación del quinto examen: \"))\n",
        "    calmenor = examen1\n",
        "    if examen2 < calmenor:\n",
        "        calmenor = examen2\n",
        "    if examen3 < calmenor:\n",
        "        calmenor = examen3\n",
        "    if examen4 < calmenor:\n",
        "        calmenor = examen4\n",
        "    if examen5 < calmenor:\n",
        "        calmenor = examen5\n",
        "\n",
        "except ValueError:\n",
        "    print(\"Dame numeros, no letras\")\n",
        "\n",
        "else:\n",
        "    prom = (examen1 + examen2 + examen3 + examen4 + examen5 - calmenor) /4\n",
        "    print (f\"El promedio final es: {prom}\")\n"
      ],
      "metadata": {
        "colab": {
          "base_uri": "https://localhost:8080/"
        },
        "id": "4x3dg7AI2GrK",
        "outputId": "5f131a08-e77d-47b4-c539-94e09de5a648"
      },
      "execution_count": null,
      "outputs": [
        {
          "output_type": "stream",
          "name": "stdout",
          "text": [
            "Ingresa la calificación del primer examen: fjllkd\n",
            "Dame numeros, no letras\n"
          ]
        }
      ]
    },
    {
      "cell_type": "markdown",
      "source": [
        "#### 5.- Programa en Python que sirva para el juego del CHINCHAMPU (Piedra, Papel, Tijera) para 1 jugador y la computadora"
      ],
      "metadata": {
        "id": "Gl4oqizp2L2t"
      }
    },
    {
      "cell_type": "code",
      "source": [
        "import random\n",
        "print(\"JUEGO DEL CHINCHAMPU\")\n",
        "print(\" 1.-Piedra \\n 2.-Papel \\n 3.-Tijeras\")\n",
        "\n",
        "try:\n",
        "    jugadajg = int(input(\"Ingresa que opcion quieres: \"))\n",
        "    jugadapc = random.randint(1,3)\n",
        "    if jugadapc == 1:\n",
        "        print(\"La computadora eligio piedra\")\n",
        "    else:\n",
        "        if jugadapc == 2:\n",
        "            print(\"La computadora eligio papel\")\n",
        "        else:\n",
        "            print(\"La computadora eligio tijeras\")\n",
        "\n",
        "    if jugadajg == 1:\n",
        "        if jugadapc == 3:\n",
        "            print(\"¡Ganaste!\")\n",
        "        else:\n",
        "            if jugadapc == 2:\n",
        "                print(\"Gana la computadora\")\n",
        "            else:\n",
        "                print(\"Empate\")\n",
        "    else:\n",
        "        if jugadajg == 2:\n",
        "            if jugadapc == 1:\n",
        "                print(\"¡Ganaste!\")\n",
        "            else:\n",
        "                if jugadapc == 3:\n",
        "                   print(\"Gana la computadora\")\n",
        "                else:\n",
        "                    print(\" Empate\")\n",
        "        else:\n",
        "            if jugadajg == 3:\n",
        "                if jugadapc == 2:\n",
        "                    print(\"¡Ganaste!\")\n",
        "                else:\n",
        "                    if jugadapc == 1:\n",
        "                        print(\"Gana la computadora\")\n",
        "                    else:\n",
        "                        print(\"Empate\")\n",
        "            else:\n",
        "                print(\"Jugada no valida\")\n",
        "\n",
        "except ValueError:\n",
        "    print(\"Dame numeros, no letras\")"
      ],
      "metadata": {
        "colab": {
          "base_uri": "https://localhost:8080/"
        },
        "id": "whrl7maR2MMa",
        "outputId": "e4823dc8-940d-4308-fec1-281c961bf148"
      },
      "execution_count": null,
      "outputs": [
        {
          "output_type": "stream",
          "name": "stdout",
          "text": [
            "JUEGO DEL CHINCHAMPU\n",
            " 1.-Piedra \n",
            " 2.-Papel \n",
            " 3.-Tijeras\n",
            "Ingresa que opcion quieres: jkf\n",
            "Dame numeros, no letras\n"
          ]
        }
      ]
    },
    {
      "cell_type": "markdown",
      "source": [
        "#### 6.- Programa en Python que lea 4 números enteros desplegar cuales el menor, cual es mayor"
      ],
      "metadata": {
        "id": "Oq9JEO_A2QTz"
      }
    },
    {
      "cell_type": "code",
      "source": [
        "try:\n",
        "    num1 = int(input(\"Ingresa el primer numero entero: \"))\n",
        "    num2 = int(input(\"Ingresa el segundo numero entero: \"))\n",
        "    num3 = int(input(\"Ingresa el tercer numero entero: \"))\n",
        "    num4 = int(input(\"Ingresa el cuarto numero entero: \"))\n",
        "    print(f\"El numero menor es:\", min(num1,num2,num3,num4))\n",
        "    print(f\"El numero mayor es:\", max(num1,num2,num3,num4))\n",
        "except:\n",
        "    print(\"Ingresa un valor numerico de tipo ENTERO\")"
      ],
      "metadata": {
        "colab": {
          "base_uri": "https://localhost:8080/"
        },
        "id": "0KrPR82O2QwL",
        "outputId": "621390dd-0218-44d6-b6a7-533ca0c05f64"
      },
      "execution_count": null,
      "outputs": [
        {
          "output_type": "stream",
          "name": "stdout",
          "text": [
            "Ingresa el primer numero entero: jkhd\n",
            "Ingresa un valor numerico de tipo ENTERO\n"
          ]
        }
      ]
    },
    {
      "cell_type": "markdown",
      "source": [
        "#### 7.- Programa en Python que sirva para calcular el área de un triangulo, los datos de entrada deben ser forzosamente de tipo real"
      ],
      "metadata": {
        "id": "W0n4MG1Q2UrK"
      }
    },
    {
      "cell_type": "code",
      "source": [
        "try:\n",
        "    base = float(input(\"Ingresa la medida de la base del triangulo: \"))\n",
        "    altura = float(input(\"Ingresa la altura del triangulo: \"))\n",
        "    area = (base * altura) / 2\n",
        "    print(f\"El area del triangulo es: {area} \")\n",
        "except:\n",
        "    print(\"Ingresa un valor numerico\")"
      ],
      "metadata": {
        "colab": {
          "base_uri": "https://localhost:8080/"
        },
        "id": "rEXQb6oG2U-Z",
        "outputId": "ef6e8aae-b2ab-48f8-c109-e165bb2f6c06"
      },
      "execution_count": null,
      "outputs": [
        {
          "output_type": "stream",
          "name": "stdout",
          "text": [
            "Ingresa la medida de la base del triangulo: df\n",
            "Ingresa un valor numerico\n"
          ]
        }
      ]
    },
    {
      "cell_type": "markdown",
      "source": [
        "#### 8.- Programa en Python que sirva para calcular el área de un circulo"
      ],
      "metadata": {
        "id": "zfXB1YHc2dU4"
      }
    },
    {
      "cell_type": "code",
      "source": [
        "try:\n",
        "    radio = float(input(\"Ingresa el radio del circulo: \"))\n",
        "    area = 3.1416 * pow(radio,2)\n",
        "    print(f\"El area del circulo es: {area}\")\n",
        "except:\n",
        "    print(\"El radio debe ser un valor númerico\")"
      ],
      "metadata": {
        "colab": {
          "base_uri": "https://localhost:8080/"
        },
        "id": "W5hctaka2dxl",
        "outputId": "b3ba9086-cde5-4d8d-e3c8-864d6dbb5f6c"
      },
      "execution_count": null,
      "outputs": [
        {
          "output_type": "stream",
          "name": "stdout",
          "text": [
            "Ingresa el radio del circulo: dfdf\n",
            "El radio debe ser un valor númerico\n"
          ]
        }
      ]
    }
  ]
}