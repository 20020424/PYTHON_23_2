{
  "nbformat": 4,
  "nbformat_minor": 0,
  "metadata": {
    "colab": {
      "provenance": [],
      "authorship_tag": "ABX9TyN0SDXaAZXWbj91/O/YTQDJ",
      "include_colab_link": true
    },
    "kernelspec": {
      "name": "python3",
      "display_name": "Python 3"
    },
    "language_info": {
      "name": "python"
    }
  },
  "cells": [
    {
      "cell_type": "markdown",
      "metadata": {
        "id": "view-in-github",
        "colab_type": "text"
      },
      "source": [
        "<a href=\"https://colab.research.google.com/github/20020424/PYTHON_23_2/blob/main/NMSC_PY_ACT3.ipynb\" target=\"_parent\"><img src=\"https://colab.research.google.com/assets/colab-badge.svg\" alt=\"Open In Colab\"/></a>"
      ]
    },
    {
      "cell_type": "markdown",
      "source": [
        "*NANCY MARIA SIQUEIROS CHAVEZ --- MATRICULA : 366239*\n",
        "\n",
        "*29 de Agosto del 2023*\n",
        "\n",
        "*ACTIVIDAD 3*"
      ],
      "metadata": {
        "id": "FosLcMEZ9Qi_"
      }
    },
    {
      "cell_type": "markdown",
      "source": [
        "####1.- Algoritmo que lea 3 calificaciones calcule el promedio del alumno y desplegar:\n",
        "\n",
        "Si prom < 30 Repetir\n",
        "\n",
        "Si prom >=30 y prom <60 extraordinario\n",
        "\n",
        "Si prom >=60 y prom <70 suficiente\n",
        "\n",
        "Si prom >=70 y prom <80 Regular\n",
        "\n",
        "Si prom >=80 y prom <90 bien\n",
        "\n",
        "Si prom >=90 y prom <98 muy bien\n",
        "\n",
        "Si prom >=98 y prom <=100 excelente\n",
        "\n",
        "Si prom >100 Error en promedio\n",
        "\n",
        "Realizar el algoritmo optimizado"
      ],
      "metadata": {
        "id": "lhQuXPk29riL"
      }
    },
    {
      "cell_type": "code",
      "execution_count": null,
      "metadata": {
        "colab": {
          "base_uri": "https://localhost:8080/"
        },
        "id": "Sy7zn0p19Ih4",
        "outputId": "26c89a49-083e-43a3-da33-0d5f976a8710"
      },
      "outputs": [
        {
          "output_type": "stream",
          "name": "stdout",
          "text": [
            "Dame la primera calificación: 56\n",
            "Dame la segunda calificación: 98\n",
            "Dame la tercera calificación: 78\n",
            "R E G U L A R\n"
          ]
        }
      ],
      "source": [
        "calf1 = int(input(\"Dame la primera calificación: \"))\n",
        "calf2 = int(input(\"Dame la segunda calificación: \"))\n",
        "calf3 = int(input(\"Dame la tercera calificación: \"))\n",
        "\n",
        "prom = (calf1 + calf2 + calf3) / 3\n",
        "\n",
        "if prom < 30:\n",
        "    print(\" R E P E T I R\")\n",
        "elif prom < 60:\n",
        "    print(\"E X T R A O R D I N A R I O\")\n",
        "elif prom < 70:\n",
        "    print(\"S U F I C I E N T E\")\n",
        "elif prom < 80:\n",
        "    print(\"R E G U L A R\")\n",
        "elif prom < 90 :\n",
        "    print(\" B I E N\")\n",
        "elif prom < 98:\n",
        "    print(\"M U Y  B I E N\")\n",
        "elif prom <= 100:\n",
        "    print(\"E X C E L E N T E\")\n",
        "else:\n",
        "    print(\"Error de promedio\")"
      ]
    },
    {
      "cell_type": "markdown",
      "source": [
        "#### 2.- Algoritmo que sirva para calcular el salario semanal de un trabajador donde se obtiene como dato de entrada las horas semanales trabajadas, el salario por hora. El programa deberá calcular el salario normal, salario extra y salario total, considerando lo siguiente:\n",
        "\n",
        "*   Jornada Normal de 40 horas.\n",
        "*   El salario normal se considera las horas trabajadas menores o igual a la jornada normal\n",
        "*   Salario extra se considera las horas trabajadas mayores a la jornada normal y se pagan dobles las primeras 9 y triples a partir de la décima hora extra\n"
      ],
      "metadata": {
        "id": "lC7xanY4CHLM"
      }
    },
    {
      "cell_type": "code",
      "source": [
        "horas_trabajadas = float(input(\"Ingresa las horas trabajadas en la semana: \"))\n",
        "salario_hora = float(input(\"Ingresa el salario por hora: \"))\n",
        "\n",
        "if horas_trabajadas <= 40:\n",
        "    salario_normal = horas_trabajadas * salario_hora\n",
        "    salario_extra =0\n",
        "else:\n",
        "    salario_normal = 40 * salario_hora\n",
        "    horas_extra = horas_trabajadas - 40\n",
        "    if horas_extra <= 9:\n",
        "        salario_extra = horas_extra * (salario_hora * 2)\n",
        "    else:\n",
        "        salario_extra = 9 * (salario_hora * 2) + (horas_extra - 9) * (salario_hora * 3)\n",
        "\n",
        "salario_total = salario_normal + salario_extra\n",
        "\n",
        "print(\"El salario normal es: $\", salario_normal)\n",
        "print(\"El salario extra es: $\", salario_extra)\n",
        "print(\"El salario total es: $\", salario_total)\n"
      ],
      "metadata": {
        "id": "8yzTVt9UCtJv",
        "colab": {
          "base_uri": "https://localhost:8080/"
        },
        "outputId": "714b36ba-7285-4101-e89b-2bd420f67799"
      },
      "execution_count": null,
      "outputs": [
        {
          "output_type": "stream",
          "name": "stdout",
          "text": [
            "Ingresa las horas trabajadas en la semana: 45\n",
            "Ingresa el salario por hora: 200\n",
            "El salario normal es: $ 8000.0\n",
            "El salario extra es: $ 2000.0\n",
            "El salario total es: $ 10000.0\n"
          ]
        }
      ]
    },
    {
      "cell_type": "markdown",
      "source": [
        "####3.- Algoritmo que sirva para desplegar el Total de una llamada telefónica donde se pide como datos de entrada los minutos y el tipo de llamada, se cobra de la siguiente manera:\n",
        "\n",
        "*   Llamada Local $3.00 sin límite de tiempo\n",
        "*   Llamada Nacional  7.00 por los 3 primeros minutos y  2.00 minuto adicional\n",
        "*   Llamada Internacional  9.00 por los 2 primeros minutos y  4.00 minuto adicional\n",
        "\n",
        " Desplegar, Subtotal,Iva (16%) y Total."
      ],
      "metadata": {
        "id": "gr_5JIeM1saz"
      }
    },
    {
      "cell_type": "code",
      "source": [
        "minutos = int(input(\"Introduce los minutos de la llamada: \"))\n",
        "tipo_llamada = int(input(\"Introduce el tipo de llamada (1=Local, 2=Nacional, 3=Internacional): \"))\n",
        "\n",
        "if tipo_llamada == 1:\n",
        "    costo = 3.00\n",
        "elif tipo_llamada == 2:\n",
        "    if minutos <= 3:\n",
        "        costo = 7.00\n",
        "    else:\n",
        "        costo = 7.00 + 2.00 * (minutos - 3)\n",
        "else:\n",
        "    if minutos <= 2:\n",
        "        costo = 9.00\n",
        "    else:\n",
        "        costo = 9.00 + 4.00 * (minutos - 2)\n",
        "\n",
        "subtotal = costo\n",
        "iva = subtotal * 0.16\n",
        "total = subtotal + iva\n",
        "\n",
        "print(\"Subtotal: ${:.2f}\".format(subtotal))\n",
        "print(\"IVA: ${:.2f}\".format(iva))\n",
        "print(\"Total: ${:.2f}\".format(total))\n"
      ],
      "metadata": {
        "id": "3eos4b0J3aX3",
        "colab": {
          "base_uri": "https://localhost:8080/"
        },
        "outputId": "547bff17-531d-4d60-aa9b-c1fe02d823b8"
      },
      "execution_count": null,
      "outputs": [
        {
          "output_type": "stream",
          "name": "stdout",
          "text": [
            "Introduce los minutos de la llamada: 4\n",
            "Introduce el tipo de llamada (1=Local, 2=Nacional, 3=Internacional): 2\n",
            "Subtotal: $9.00\n",
            "IVA: $1.44\n",
            "Total: $10.44\n"
          ]
        }
      ]
    },
    {
      "cell_type": "markdown",
      "source": [
        "####4.- Algoritmo que sirva para calcular el Total a pagar por consumo de agua, donde el dato de entrada son los M3 de agua consumidos, Tomar en cuenta que se cobra escalonada de la Siguiente manera:\n",
        "\n",
        "Rango1: 0 al 4 M3 $50 x facturación sin importar cuánto consumió en este rango\n",
        "\n",
        "Rango2: 5 a 15 M3 $8.00 x M3\n",
        "\n",
        "Rango3: 16 a 50 M3 $10.00 x M3\n",
        "\n",
        "Rango4: 51 M3 en adelante $11.00 x M3\n",
        "\n",
        "Nota: Desplegar SubTotal, Iva(16%), y Total a pagar."
      ],
      "metadata": {
        "id": "1oMeKo_kImBb"
      }
    },
    {
      "cell_type": "code",
      "source": [
        "consumo = int(input(\"Ingresa cuantros metros cubicos consumiste de agua: \"))\n",
        "if consumo > 4:\n",
        "    if consumo > 15:\n",
        "        if consumo > 50:\n",
        "            metrosextra = consumo - 50\n",
        "            subtotal = 50 +(11*8)+(35*10)+(metrosextra*11)\n",
        "        else:\n",
        "            metrosextra = consumo - 15\n",
        "            subtotal = 50 +(11*8)+(metrosextra*10)\n",
        "    else:\n",
        "        metrosextra = consumo - 4\n",
        "        subtotal = 50 + (metrosextra*8)\n",
        "else:\n",
        "    subtotal = 50\n",
        "iva = subtotal * 0.16\n",
        "total = subtotal + iva\n",
        "print(f\"Subtotal: {subtotal} \")\n",
        "print(f\"IVA(16%): {iva} \")\n",
        "print(f\"Total a pagar: {total} \")"
      ],
      "metadata": {
        "colab": {
          "base_uri": "https://localhost:8080/"
        },
        "id": "cUnzw5lnIye7",
        "outputId": "1d238636-ebac-4774-f959-486c30b1c220"
      },
      "execution_count": null,
      "outputs": [
        {
          "output_type": "stream",
          "name": "stdout",
          "text": [
            "Ingresa cuantros metros cubicos consumiste de agua: 6\n",
            "Subtotal: 66 \n",
            "IVA(16%): 10.56 \n",
            "Total a pagar: 76.56 \n"
          ]
        }
      ]
    },
    {
      "cell_type": "markdown",
      "source": [
        "####5- En la materia de Metodología de la programación se aplican 5 exámenes, calcular el promedio final de la materia donde la calificación menor de los exámenes se anula y el promedio se calcula en base a 4 exámenes.\n",
        "\n",
        "Desplegar el promedio final."
      ],
      "metadata": {
        "id": "c6UT898_JndY"
      }
    },
    {
      "cell_type": "code",
      "source": [
        "examen1 = int(input(\"Ingresa la calificación del primer examen: \"))\n",
        "examen2 = int(input(\"Ingresa la calificación del segundo examen: \"))\n",
        "examen3 = int(input(\"Ingresa la calificación del tercer examen: \"))\n",
        "examen4 = int(input(\"Ingresa la calificación del cuarto examen: \"))\n",
        "examen5 = int(input(\"Ingresa la calificación del quinto examen: \"))\n",
        "calmenor = examen1\n",
        "if examen2 < calmenor:\n",
        "    calmenor = examen2\n",
        "if examen3 < calmenor:\n",
        "    calmenor = examen3\n",
        "if examen4 < calmenor:\n",
        "    calmenor = examen4\n",
        "if examen5 < calmenor:\n",
        "    calmenor = examen5\n",
        "prom = (examen1 + examen2 + examen3 + examen4 + examen5 - calmenor) /4\n",
        "print (f\"El promedio final es: {prom}\")"
      ],
      "metadata": {
        "id": "VKTsWe4-JtKb"
      },
      "execution_count": null,
      "outputs": []
    },
    {
      "cell_type": "markdown",
      "source": [
        "####6.- Algoritmo que sirva para el juego del CHINCHAMPU (Piedra, Papel, Tijera) para 1 jugador y la computadora,(usar condición anidada)"
      ],
      "metadata": {
        "id": "h04O9YYkJ6Z1"
      }
    },
    {
      "cell_type": "code",
      "source": [
        "import random\n",
        "print(\"JUEGO DEL CHINCHAMPU\")\n",
        "print(\" 1.-Piedra \\n 2.-Papel \\n 3.-Tijeras\")\n",
        "jugadajg = int(input(\"Ingresa que opcion quieres: \"))\n",
        "jugadapc = random.randint(1,3)\n",
        "if jugadapc == 1:\n",
        "    print(\"La computadora eligio piedra\")\n",
        "else:\n",
        "    if jugadapc == 2:\n",
        "        print(\"La computadora eligio papel\")\n",
        "    else:\n",
        "        print(\"La computadora eligio tijeras\")\n",
        "\n",
        "if jugadajg == 1:\n",
        "    if jugadapc == 3:\n",
        "        print(\"¡Ganaste!\")\n",
        "    else:\n",
        "        if jugadapc == 2:\n",
        "            print(\"Gana la computadora\")\n",
        "        else:\n",
        "            print(\"Empate\")\n",
        "else:\n",
        "    if jugadajg == 2:\n",
        "        if jugadapc == 1:\n",
        "            print(\"¡Ganaste!\")\n",
        "        else:\n",
        "            if jugadapc == 3:\n",
        "                print(\"Gana la computadora\")\n",
        "            else:\n",
        "                print(\" Empate\")\n",
        "    else:\n",
        "        if jugadajg == 3:\n",
        "            if jugadapc == 2:\n",
        "                print(\"¡Ganaste!\")\n",
        "            else:\n",
        "                if jugadapc == 1:\n",
        "                    print(\"Gana la computadora\")\n",
        "                else:\n",
        "                    print(\"Empate\")\n",
        "        else:\n",
        "            print(\"Jugada no valida\")\n"
      ],
      "metadata": {
        "colab": {
          "base_uri": "https://localhost:8080/"
        },
        "id": "4gw34KgHKC56",
        "outputId": "b8b73b2b-d6f3-40d2-ef80-20f24cf4ebd1"
      },
      "execution_count": null,
      "outputs": [
        {
          "output_type": "stream",
          "name": "stdout",
          "text": [
            "JUEGO DEL CHINCHAMPU\n",
            " 1.-Piedra \n",
            " 2.-Papel \n",
            " 3.-Tijeras\n",
            "Ingresa que opcion quieres: 2\n",
            "La computadora eligio papel\n",
            " Empate\n"
          ]
        }
      ]
    },
    {
      "cell_type": "markdown",
      "source": [
        "####7.- Algoritmo que sirva para el juego del CHINCHAMPU (Piedra, Papel, Tijera) para 1 jugador y la computadora, (usar selección múltiple)"
      ],
      "metadata": {
        "id": "UQgqSLXiKVdn"
      }
    },
    {
      "cell_type": "code",
      "source": [
        "import random\n",
        "print(\"JUEGO DEL CHINCHAMPU\")\n",
        "print(\" 1.-Piedra \\n 2.-Papel \\n 3.-Tijeras\")\n",
        "jugadajg = int(input(\"Ingresa que opcion quieres: \"))\n",
        "jugadapc = random.randint(1,3)\n",
        "if jugadapc == 1:\n",
        "    print(\"La computadora eligio piedra\")\n",
        "    if jugadajg == 1:\n",
        "        print(\"Empate\")\n",
        "    elif jugadajg == 2:\n",
        "        print(\"¡Ganaste!\")\n",
        "    elif jugadajg == 3:\n",
        "        print(\"Gana la computadora\")\n",
        "    else:\n",
        "        print(\"Jugada no valida\")\n",
        "elif jugadapc == 2:\n",
        "    print(\"La computadora eligio papel\")\n",
        "    if jugadajg == 1:\n",
        "        print(\"Gana la computadora\")\n",
        "    elif jugadajg == 2:\n",
        "        print(\"Empate\")\n",
        "    elif jugadajg == 3:\n",
        "        print(\"¡Ganaste!\")\n",
        "    else:\n",
        "        print(\"Jugada no valida\")\n",
        "elif jugadapc == 3:\n",
        "    print(\"La computadora eligio tijeras\")\n",
        "    if jugadajg == 1:\n",
        "        print(\"¡Ganaste!\")\n",
        "    elif jugadajg == 2:\n",
        "        print(\"Gana la computadora\")\n",
        "    elif jugadajg == 3:\n",
        "        print(\"Empate\")\n",
        "    else:\n",
        "        print(\"Jugada no valida\")"
      ],
      "metadata": {
        "id": "5LcyuzreKali",
        "colab": {
          "base_uri": "https://localhost:8080/"
        },
        "outputId": "e8850794-64b7-4379-c58b-8518e1988b52"
      },
      "execution_count": null,
      "outputs": [
        {
          "output_type": "stream",
          "name": "stdout",
          "text": [
            "JUEGO DEL CHINCHAMPU\n",
            " 1.-Piedra \n",
            " 2.-Papel \n",
            " 3.-Tijeras\n",
            "Ingresa que opcion quieres: 3\n",
            "La computadora eligio papel\n",
            "¡Ganaste!\n"
          ]
        }
      ]
    },
    {
      "cell_type": "markdown",
      "source": [
        "####8.- Una tienda de electrónica ofrece descuentos a sus clientes, dependiendo del tipo de producto que compren. Si el cliente compra una computadora, tiene un descuento del 5% en el precio de la computadora y un 10% de descuento en una impresora si la compra junto con la computadora. Si el cliente compra una televisión, tiene un descuento del 7% en el precio de la televisión y un 15% de descuento en una barra de sonido si la compra junto con la televisión. Si el cliente compra una consola de videojuegos, tiene un descuento del 10% en el precio de la consola y un 20% de descuento en un juego si lo compra junto con la consola. Escribe un programa que calcule el precio a pagar por un cliente, tomando en cuenta los descuentos correspondientes."
      ],
      "metadata": {
        "id": "TKsw-oz8tbwg"
      }
    },
    {
      "cell_type": "code",
      "source": [
        "precio_computadora = 1000\n",
        "precio_impresora = 200\n",
        "precio_televisor = 800\n",
        "precio_barra_sonido = 150\n",
        "precio_consola = 500\n",
        "precio_juego = 50\n",
        "\n",
        "eleccion = input(\"¿Qué producto desea comprar (computadora, televisión o consola de videojuegos)? \").lower()\n",
        "\n",
        "if eleccion == \"computadora\":\n",
        "    precio_base = precio_computadora\n",
        "elif eleccion == \"televisión\":\n",
        "    precio_base = precio_televisor\n",
        "elif eleccion == \"consola de videojuegos\":\n",
        "    precio_base = precio_consola\n",
        "else:\n",
        "    print(\"Producto no válido.\")\n",
        "    precio_base = 0\n",
        "\n",
        "descuento_adicional = 0\n",
        "if eleccion == \"computadora\":\n",
        "    if input(\"¿Desea comprar una impresora (s/n)? \").lower() == \"s\":\n",
        "        descuento_adicional += 0.10\n",
        "elif eleccion == \"televisión\":\n",
        "    if input(\"¿Desea comprar una barra de sonido (s/n)? \").lower() == \"s\":\n",
        "        descuento_adicional += 0.15\n",
        "elif eleccion == \"consola de videojuegos\":\n",
        "    if input(\"¿Desea comprar un juego (s/n)? \").lower() == \"s\":\n",
        "        descuento_adicional += 0.20\n",
        "\n",
        "if eleccion == \"computadora\":\n",
        "    descuento_producto = 0.05\n",
        "elif eleccion == \"televisión\":\n",
        "    descuento_producto = 0.07\n",
        "elif eleccion == \"consola de videojuegos\":\n",
        "    descuento_producto = 0.10\n",
        "else:\n",
        "    descuento_producto = 0\n",
        "\n",
        "precio_final = precio_base * (1 - descuento_producto - descuento_adicional)\n",
        "\n",
        "print(f\"El precio a pagar por la {eleccion} es de ${precio_final:.2f}.\")"
      ],
      "metadata": {
        "colab": {
          "base_uri": "https://localhost:8080/"
        },
        "id": "Ilt8sqs1uux_",
        "outputId": "3135b664-b4d9-4516-ed1e-dcb639387c87"
      },
      "execution_count": null,
      "outputs": [
        {
          "output_type": "stream",
          "name": "stdout",
          "text": [
            "¿Qué producto desea comprar (computadora, televisión o consola de videojuegos)? computadora\n",
            "¿Desea comprar una impresora (s/n)? s\n",
            "El precio a pagar por la computadora es de $850.00.\n"
          ]
        }
      ]
    },
    {
      "cell_type": "markdown",
      "source": [
        "####9.- En una tienda de ropa, los precios de los productos cambian dependiendo de la temporada. Durante la temporada de verano, todos los productos tienen un descuento del 20%. Durante la temporada de invierno, los productos con etiqueta roja tienen un descuento del 30% y los productos con etiqueta verde tienen un descuento del 15%. Durante la temporada de primavera y otoño, los productos con etiqueta amarilla tienen un descuento del 10%. Escribe un programa que calcule el precio a pagar por un cliente, tomando en cuenta los descuentos correspondientes."
      ],
      "metadata": {
        "id": "UcaML7afvQgH"
      }
    },
    {
      "cell_type": "code",
      "source": [
        "precio_camisa = 50\n",
        "precio_pantalon = 75\n",
        "precio_vestido = 100\n",
        "\n",
        "eleccion = input(\"¿Qué producto desea comprar (camisa, pantalón o vestido)? \").lower()\n",
        "\n",
        "temporada = input(\"¿En qué temporada se encuentra (verano, invierno, primavera u otoño)? \").lower()\n",
        "\n",
        "if eleccion == \"camisa\":\n",
        "    precio_base = precio_camisa\n",
        "elif eleccion == \"pantalón\":\n",
        "    precio_base = precio_pantalon\n",
        "elif eleccion == \"vestido\":\n",
        "    precio_base = precio_vestido\n",
        "else:\n",
        "    print(\"Producto no válido.\")\n",
        "    precio_base = 0\n",
        "\n",
        "descuento_adicional = 0\n",
        "if temporada == \"invierno\":\n",
        "    if eleccion == \"camisa\" or eleccion == \"pantalón\":\n",
        "        if input(\"¿El producto tiene etiqueta roja (s/n)? \").lower() == \"s\":\n",
        "            descuento_adicional += 0.30\n",
        "    elif eleccion == \"vestido\":\n",
        "        if input(\"¿El producto tiene etiqueta verde (s/n)? \").lower() == \"s\":\n",
        "            descuento_adicional += 0.15\n",
        "elif temporada == \"verano\":\n",
        "    descuento_adicional += 0.20\n",
        "elif temporada == \"primavera\" or temporada == \"otoño\":\n",
        "    if input(\"¿El producto tiene etiqueta amarilla (s/n)? \").lower() == \"s\":\n",
        "        descuento_adicional += 0.10\n",
        "\n",
        "precio_final = precio_base * (1 - descuento_adicional)\n",
        "\n",
        "print(f\"El precio a pagar por el/la {eleccion} durante la temporada de {temporada} es de ${precio_final:.2f}.\")\n",
        "\n"
      ],
      "metadata": {
        "colab": {
          "base_uri": "https://localhost:8080/"
        },
        "id": "a8r6iulfvW3V",
        "outputId": "99d7ed1f-1fe8-4763-edfa-4b2cd008414a"
      },
      "execution_count": null,
      "outputs": [
        {
          "output_type": "stream",
          "name": "stdout",
          "text": [
            "¿Qué producto desea comprar (camisa, pantalón o vestido)? vestido\n",
            "¿En qué temporada se encuentra (verano, invierno, primavera u otoño)? otoño\n",
            "¿El producto tiene etiqueta amarilla (s/n)? s\n",
            "El precio a pagar por el/la vestido durante la temporada de otoño es de $90.00.\n"
          ]
        }
      ]
    },
    {
      "cell_type": "markdown",
      "source": [
        "####10.- Un restaurante ofrece descuentos a sus clientes, dependiendo del día de la semana y del tipo de menú que pidan. Los lunes, los clientes que pidan el menú del día tienen un descuento del 10%. Los martes, los clientes que pidan el menú infantil tienen un descuento del 20%. Los miércoles, los clientes que pidan el menú vegetariano tienen un descuento del 15%. Los jueves, los clientes que pidan el menú del chef tienen un descuento del 5%. Los viernes, los clientes que pidan el menú del día tienen un descuento del 5%. Los sábados y domingos no hay descuentos. Escribe un programa que calcule el precio a pagar por un cliente, tomando en cuenta los descuentos correspondientes."
      ],
      "metadata": {
        "id": "7E7MjMzUvxf-"
      }
    },
    {
      "cell_type": "code",
      "source": [
        "print(\"DIAS: \\n 1.-Lunes \\n 2.-Martes \\n 3.-Miercoles \\n 4.-Jueves \\n 5.-Viernes \\n 6.-Domingo\")\n",
        "dia = int(input(\"Ingresa que dia es: \"))\n",
        "print(\"MENUS: \\n 1.-Del dia(100) \\n 2.-Infantil(80) \\n 3.-Vegetariano(120) \\n 4.- Del Chef(140) \")\n",
        "menu = int(input(\"Ingresa que menu deseas pedir: \"))\n",
        "menu_dia = 100\n",
        "menu_inf = 80\n",
        "menu_veg = 120\n",
        "menu_chef = 140\n",
        "\n",
        "if menu == 1:\n",
        "    precioapagar = menu_dia\n",
        "elif menu == 2:\n",
        "    precioapagar = menu_inf\n",
        "elif menu == 3:\n",
        "    precioapagar = menu_veg\n",
        "elif menu == 4:\n",
        "    precioapagar = menu_chef\n",
        "print(\"---------------------------------------\")\n",
        "if dia == 1:\n",
        "    if menu == 1:\n",
        "        print(\"Tienes un descuento del 10%\")\n",
        "        precioapagar *= 0.90\n",
        "\n",
        "elif dia == 2:\n",
        "    if menu == 2:\n",
        "        print(\"Tienes un descuento del 20%\")\n",
        "        precioapagar *= 0.80\n",
        "elif dia == 3:\n",
        "    if menu == 3:\n",
        "        print(\"Tienes un descuento del 15%\")\n",
        "        precioapagar *= 0.85\n",
        "elif dia == 4:\n",
        "    if menu == 4:\n",
        "        print(\"Tienes un descuento del 5%\")\n",
        "        precioapagar *= 0.95\n",
        "elif dia == 5:\n",
        "    if menu == 1:\n",
        "        print(\"Tienes un descuento del 5%\")\n",
        "        precioapagar *= 0.95\n",
        "elif dia == 6:\n",
        "    print(\"Sabado y Domingos no hay descuentos en ninguno de nuestros menus\")\n",
        "\n",
        "print(f\"El precio a pagar es: {precioapagar} $\")"
      ],
      "metadata": {
        "colab": {
          "base_uri": "https://localhost:8080/"
        },
        "id": "6FWPsn_yv4PT",
        "outputId": "beb1b825-af4f-45de-e831-3e3cafbd0728"
      },
      "execution_count": null,
      "outputs": [
        {
          "output_type": "stream",
          "name": "stdout",
          "text": [
            "DIAS: \n",
            " 1.-Lunes \n",
            " 2.-Martes \n",
            " 3.-Miercoles \n",
            " 4.-Jueves \n",
            " 5.-Viernes \n",
            " 6.-Domingo\n",
            "Ingresa que dia es: 2\n",
            "MENUS: \n",
            " 1.-Del dia(100) \n",
            " 2.-Infantil(80) \n",
            " 3.-Vegetariano(120) \n",
            " 4.- Del Chef(140) \n",
            "Ingresa que menu deseas pedir: 4\n",
            "---------------------------------------\n",
            "El precio a pagar es: 140 $\n"
          ]
        }
      ]
    }
  ]
}