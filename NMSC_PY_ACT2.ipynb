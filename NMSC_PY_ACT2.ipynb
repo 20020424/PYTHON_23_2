{
  "nbformat": 4,
  "nbformat_minor": 0,
  "metadata": {
    "colab": {
      "provenance": [],
      "authorship_tag": "ABX9TyNwzxhP/keDTLMuW/Kj9AEr",
      "include_colab_link": true
    },
    "kernelspec": {
      "name": "python3",
      "display_name": "Python 3"
    },
    "language_info": {
      "name": "python"
    }
  },
  "cells": [
    {
      "cell_type": "markdown",
      "metadata": {
        "id": "view-in-github",
        "colab_type": "text"
      },
      "source": [
        "<a href=\"https://colab.research.google.com/github/20020424/PYTHON_23_2/blob/main/NMSC_PY_ACT2.ipynb\" target=\"_parent\"><img src=\"https://colab.research.google.com/assets/colab-badge.svg\" alt=\"Open In Colab\"/></a>"
      ]
    },
    {
      "cell_type": "markdown",
      "source": [
        "**A C T I V I D A D 2**\n",
        "\n",
        "*NANCY MARIA SIQUEIROS CHAVEZ, MATRICULA: 366239*\n",
        "\n",
        "FECHA: 22 DE AGOSTO DEL 2023"
      ],
      "metadata": {
        "id": "uZGkVfBv4fmP"
      }
    },
    {
      "cell_type": "markdown",
      "source": [
        "*EJERCICIOS ( 1,2,3 y 4 ) PARA SER RESUELTOS USANDO EXCLUSIVAMENTE CONDICIONES SIMPLES*\n"
      ],
      "metadata": {
        "id": "oUNvDDdi5mpO"
      }
    },
    {
      "cell_type": "markdown",
      "source": [
        "#### 1.- Programa en Python que lea 2 números enteros, usar una condición y analizar los dos números y desplegar cual de los números es el mayor."
      ],
      "metadata": {
        "id": "rIEsVB5T6P7o"
      }
    },
    {
      "cell_type": "code",
      "source": [
        "num1 = int(input(\"DAME EL PRIMER NUMERO:\"))\n",
        "num2 = int(input(\"DAME EL SEGUNDO NUMERO:\"))\n",
        "\n",
        "if num1 > num2:\n",
        "    print(f\"El numero mayor es {num1}\")\n",
        "\n",
        "if num1 < num2:\n",
        "    print(f\"El numero mayor es {num2}\")"
      ],
      "metadata": {
        "colab": {
          "base_uri": "https://localhost:8080/"
        },
        "id": "9SLC4zuO4h6_",
        "outputId": "3d4347ce-31a6-4124-a0bf-0f3d8f843c1b"
      },
      "execution_count": 1,
      "outputs": [
        {
          "output_type": "stream",
          "name": "stdout",
          "text": [
            "DAME EL PRIMER NUMERO:30\n",
            "DAME EL SEGUNDO NUMERO:50\n",
            "El numero mayor es 50\n"
          ]
        }
      ]
    },
    {
      "cell_type": "markdown",
      "source": [
        "#### 2.- Programa en Python que lea 4 calificaciones de un alumno, calcular y desplegar el promedio acompañado de la leyenda \"APROBADO\" o \"REPROBADO\""
      ],
      "metadata": {
        "id": "ukPxAqEb78LH"
      }
    },
    {
      "cell_type": "code",
      "source": [
        "calf1 = int(input(\"DAME LA PRIMERA CALIFICACION:\"))\n",
        "calf2 = int(input(\"DAME LA SEGUNDA CALIFICACION:\"))\n",
        "calf3 = int(input(\"DAME LA TERCERA CALIFICACION:\"))\n",
        "calf4 = int(input(\"DAME LA CUARTA CALIFICACION:\"))\n",
        "\n",
        "prom = (calf1 + calf2 + calf3 + calf4) / 4\n",
        "\n",
        "if prom >= 60:\n",
        "    print(f\"Tu promedio es de {prom}, lo que significa que estas APROBADO\")\n",
        "\n",
        "if prom < 60:\n",
        "    print(f\"Tu promedio es de {prom}, lo que significa que estas REPROBADO\")"
      ],
      "metadata": {
        "colab": {
          "base_uri": "https://localhost:8080/"
        },
        "id": "1N9YIn4y8EoI",
        "outputId": "cb62bcd6-37aa-4970-a75e-e5269e7763c1"
      },
      "execution_count": 2,
      "outputs": [
        {
          "output_type": "stream",
          "name": "stdout",
          "text": [
            "DAME LA PRIMERA CALIFICACION:56\n",
            "DAME LA SEGUNDA CALIFICACION:78\n",
            "DAME LA TERCERA CALIFICACION:89\n",
            "DAME LA CUARTA CALIFICACION:77\n",
            "Tu promedio es de 75.0, lo que significa que estas APROBADO\n"
          ]
        }
      ]
    },
    {
      "cell_type": "markdown",
      "source": [
        "#### 3.- Programa en Python que a través de opciones (1.- HOMBRE 2.- MUJER ) preguntar al usuario cual es su sexo y desplegar la leyenda “HOMBRE ”, “MUJER”"
      ],
      "metadata": {
        "id": "F7y5Dre599fp"
      }
    },
    {
      "cell_type": "code",
      "source": [
        "sex = int(input(\"¿CUAL ES SU SEXO?, SELECCIONE UNA OPCION, 1-.HOMBRE 0 2-.MUJER: \"))\n",
        "\n",
        "if sex == 1:\n",
        "    print(\"Su sexo es HOMBRE\")\n",
        "\n",
        "if sex == 2:\n",
        "    print(\"Su sexo es MUJER\")"
      ],
      "metadata": {
        "colab": {
          "base_uri": "https://localhost:8080/"
        },
        "id": "Jo5kQEpc-FMV",
        "outputId": "0c6544bc-22d1-4986-e4d1-d6bb4b271bf7"
      },
      "execution_count": 5,
      "outputs": [
        {
          "output_type": "stream",
          "name": "stdout",
          "text": [
            "¿CUAL ES SU SEXO?, SELECCIONE UNA OPCION, 1-.HOMBRE 0 2-.MUJER: 2\n",
            "Su sexo es MUJER\n"
          ]
        }
      ]
    },
    {
      "cell_type": "markdown",
      "source": [
        "#### 4.- Programa en Python que lea un número entero, y desplegar si el número es “PAR” o “IMPAR”"
      ],
      "metadata": {
        "id": "pNM4a29KBCgc"
      }
    },
    {
      "cell_type": "code",
      "source": [
        "num = int(input(\"DAME UN NUMERO:\"))\n",
        "\n",
        "if num % 2 == 0:\n",
        "    print(\"Este numero es PAR\")\n",
        "\n",
        "if num % 2 == 1:\n",
        "    print(\"Este numero es IMPAR\")"
      ],
      "metadata": {
        "colab": {
          "base_uri": "https://localhost:8080/"
        },
        "id": "F4vwOckOBpyg",
        "outputId": "86109c53-1d8a-4ab8-e581-565f1324d65b"
      },
      "execution_count": 6,
      "outputs": [
        {
          "output_type": "stream",
          "name": "stdout",
          "text": [
            "DAME UN NUMERO:7\n",
            "Este numero es IMPAR\n"
          ]
        }
      ]
    },
    {
      "cell_type": "markdown",
      "source": [
        "*EJERCICIOS (5,6,7 y 8) PARA SER RESUELTOS USANDO CONDICIÓN COMPUESTA*"
      ],
      "metadata": {
        "id": "p0kDtdR2CMS_"
      }
    },
    {
      "cell_type": "markdown",
      "source": [
        "#### 5.- Programa en Python que lea 2 números enteros, usar una condición y analizar los dos números y desplegar cual de los números es el mayor."
      ],
      "metadata": {
        "id": "-Tosa7R4CS8h"
      }
    },
    {
      "cell_type": "code",
      "source": [
        "num1 = int(input(\"DAME EL PRIMER NUMERO:\"))\n",
        "num2 = int(input(\"DAME EL SEGUNDO NUMERO:\"))\n",
        "\n",
        "if num1 > num2:\n",
        "    print(f\"El numero mayor es el {num1}\")\n",
        "else:\n",
        "    print(f\"El numero mayor es el {num2}\")"
      ],
      "metadata": {
        "colab": {
          "base_uri": "https://localhost:8080/"
        },
        "id": "G6p9mbgECXaT",
        "outputId": "8670cf5a-64dd-4424-c3e6-9f7040970dbe"
      },
      "execution_count": 7,
      "outputs": [
        {
          "output_type": "stream",
          "name": "stdout",
          "text": [
            "DAME EL PRIMER NUMERO:60\n",
            "DAME EL SEGUNDO NUMERO:80\n",
            "El numero mayor es el 80\n"
          ]
        }
      ]
    },
    {
      "cell_type": "markdown",
      "source": [
        "#### 6.- Programa en Python que lea 4 calificaciones de un alumno, calcular y desplegar el promedio acompañado de la leyenda APROBADO o REPROBADO.\n",
        "\n"
      ],
      "metadata": {
        "id": "aRaZOwcADoIt"
      }
    },
    {
      "cell_type": "code",
      "source": [
        "calf1 = int(input(\"DAME LA PRIMERA CALIFICACIÓN:\"))\n",
        "calf2 = int(input(\"DAME LA SEGUNDA CALIFICACIÓN:\"))\n",
        "calf3 = int(input(\"DAME LA TERCERA CALIFICACIÓN:\"))\n",
        "calf4 = int(input(\"DAME LA CUARTA CALIFICACIÓN:\"))\n",
        "\n",
        "prom = (calf1 + calf2 + calf3 + calf4) / 4\n",
        "\n",
        "if prom >= 60:\n",
        "    print(f\"Su promedio es de {prom}, lo que significa que está APROBADO\")\n",
        "else:\n",
        "    print(f\"Su promedio es de {prom}, lo que significa que está REPROBADO\")"
      ],
      "metadata": {
        "colab": {
          "base_uri": "https://localhost:8080/"
        },
        "id": "09zL4w_RDs33",
        "outputId": "2166e846-1641-4e4f-dc9c-a933d455d386"
      },
      "execution_count": 8,
      "outputs": [
        {
          "output_type": "stream",
          "name": "stdout",
          "text": [
            "DAME LA PRIMERA CALIFICACIÓN:60\n",
            "DAME LA SEGUNDA CALIFICACIÓN:59\n",
            "DAME LA TERCERA CALIFICACIÓN:98\n",
            "DAME LA CUARTA CALIFICACIÓN:77\n",
            "Su promedio es de 73.5, lo que significa que está APROBADO\n"
          ]
        }
      ]
    },
    {
      "cell_type": "markdown",
      "source": [
        "#### 7.- Programa en Python que a través de opciones (1.- HOMBRE 2.- MUJER ) preguntar al usuario cual es su sexo y desplegar la leyenda “HOMBRE ”, “MUJER”."
      ],
      "metadata": {
        "id": "J29Yg2UbFHtm"
      }
    },
    {
      "cell_type": "code",
      "source": [
        "print(\"¿Cuál es su sexo?\")\n",
        "print(\"Selecciona una opción\")\n",
        "print(\"1-.HOMBRE\")\n",
        "print(\"2-.MUJER\")\n",
        "opcion = int(input(\"Ingrese el número:\"))\n",
        "\n",
        "if opcion == 1:\n",
        "    print(\"Su sexo es HOMBRE\")\n",
        "if opcion == 2:\n",
        "    print(\"Su sexo es MUJER\")\n",
        "else:\n",
        "    print(\"OPCIÓN INVÁLIDA\")"
      ],
      "metadata": {
        "colab": {
          "base_uri": "https://localhost:8080/"
        },
        "id": "FjIN7VQ_FQ1Z",
        "outputId": "0bc56c34-eb9a-4ed6-9a18-401b5db33ba0"
      },
      "execution_count": 9,
      "outputs": [
        {
          "output_type": "stream",
          "name": "stdout",
          "text": [
            "¿Cuál es su sexo?\n",
            "Selecciona una opción\n",
            "1-.HOMBRE\n",
            "2-.MUJER\n",
            "Ingrese el número:2\n",
            "Su sexo es MUJER\n"
          ]
        }
      ]
    },
    {
      "cell_type": "markdown",
      "source": [
        "#### 8.- Programa en Python que lea un número entero, y desplegar si el número es “PAR” o “IMPAR”."
      ],
      "metadata": {
        "id": "i8C1Z3AtGxyT"
      }
    },
    {
      "cell_type": "code",
      "source": [
        "num = int(input(\"Dame un número:\"))\n",
        "\n",
        "if num % 2 == 0:\n",
        "    print(f\"El número {num} es PAR\")\n",
        "else:\n",
        "    print(f\"El número {num} es IMPAR\")"
      ],
      "metadata": {
        "colab": {
          "base_uri": "https://localhost:8080/"
        },
        "id": "fA198AqlGxTS",
        "outputId": "856cf1b7-31c1-48e6-e363-8466c78c6687"
      },
      "execution_count": 10,
      "outputs": [
        {
          "output_type": "stream",
          "name": "stdout",
          "text": [
            "Dame un número:7\n",
            "El número 7 es IMPAR\n"
          ]
        }
      ]
    }
  ]
}