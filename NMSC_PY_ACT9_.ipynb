{
  "nbformat": 4,
  "nbformat_minor": 0,
  "metadata": {
    "colab": {
      "provenance": [],
      "authorship_tag": "ABX9TyONk5x5GKBMwn8kTdXw3wGk",
      "include_colab_link": true
    },
    "kernelspec": {
      "name": "python3",
      "display_name": "Python 3"
    },
    "language_info": {
      "name": "python"
    }
  },
  "cells": [
    {
      "cell_type": "markdown",
      "metadata": {
        "id": "view-in-github",
        "colab_type": "text"
      },
      "source": [
        "<a href=\"https://colab.research.google.com/github/20020424/PYTHON_23_2/blob/main/NMSC_PY_ACT9_.ipynb\" target=\"_parent\"><img src=\"https://colab.research.google.com/assets/colab-badge.svg\" alt=\"Open In Colab\"/></a>"
      ]
    },
    {
      "cell_type": "markdown",
      "source": [
        "*NANCY MARIA SIQUEIROS CHAVEZ*\n",
        "\n",
        "*MATRICULA: 366239*\n",
        "\n",
        "*FECHA: 17 DE OCTUBRE DEL 2023*\n",
        "\n",
        "*ACTIVIDAD 9*"
      ],
      "metadata": {
        "id": "MUQ0KlkNVOJy"
      }
    },
    {
      "cell_type": "markdown",
      "source": [
        "#### Realiza un programa en python que utilice el siguiente menu:\n",
        "\n",
        "MENU\n",
        "\n",
        "1.- Crear Diccionario\n",
        "\n",
        "2.- Imprimir Diccionario\n",
        "\n",
        "0.- Salir\n",
        "\n",
        "CREAR DICCIIONARIO: funcion que retorne un diccionario con los datos de basicos de un alumno, donde se pide {id,nombre (1 O 2) , appaterno,apmaterno, edad,sexo}, El diccionario se debe generar automaticmanete a partir de listas.\n",
        "\n",
        "IMPRIMIR DICCIONARIO:  Funcion que reciba como parametro el diccionario, y le de una salida mostrando la informacion en forma de registro que se genero con el diccionario"
      ],
      "metadata": {
        "id": "-eCrOybtVhHN"
      }
    },
    {
      "cell_type": "code",
      "source": [
        "!pip install pyyaml"
      ],
      "metadata": {
        "colab": {
          "base_uri": "https://localhost:8080/"
        },
        "id": "d926CDaya3Ub",
        "outputId": "82f28a51-d94e-4616-e6d8-36c47ad1ff9e"
      },
      "execution_count": null,
      "outputs": [
        {
          "output_type": "stream",
          "name": "stdout",
          "text": [
            "Requirement already satisfied: pyyaml in /usr/local/lib/python3.10/dist-packages (6.0.1)\n"
          ]
        }
      ]
    },
    {
      "cell_type": "code",
      "source": [
        "import yaml\n",
        "import random"
      ],
      "metadata": {
        "id": "QSBNjhMha-8I"
      },
      "execution_count": null,
      "outputs": []
    },
    {
      "cell_type": "code",
      "source": [
        "from IPython.display import clear_output"
      ],
      "metadata": {
        "id": "WZfeLX9iaLOq"
      },
      "execution_count": null,
      "outputs": []
    },
    {
      "cell_type": "code",
      "source": [
        "def hacer_dic():\n",
        "    dic = [\n",
        "        { \"Matri\": 366239, \"Nombre(s)\":\"Nancy Maria\",\"Apellido Paterno\":\"Siqueiros\", \"Apellido Materno\" : \"Chavez\", \"Edad\": 21,\"Sexo\":\"M\" },\n",
        "        { \"Matri\": 365334, \"Nombre(s)\":\"Angel Ignacio\",\"Apellido Paterno\":\"Leal\", \"Apellido Materno\" : \"Juarez\", \"Edad\": 21 ,\"Sexo\":\"H\" },\n",
        "        { \"Matri\": 368789, \"Nombre(s)\":\"Pablo Javier\",\"Apellido Paterno\":\"Cota\", \"Apellido Materno\" : \"Perez\", \"Edad\": 21 ,\"Sexo\":\"H\" },\n",
        "        { \"Matri\": 368909, \"Nombre(s)\":\"Danna Ayram\",\"Apellido Paterno\":\"Redona\", \"Apellido Materno\" : \"Arce\", \"Edad\": 20 ,\"Sexo\":\"M\" },\n",
        "        { \"Matri\": 361603, \"Nombre(s)\":\"Marcos\",\"Apellido Paterno\":\"Ruiz\", \"Apellido Materno\" : \"Gonzales\", \"Edad\": 21 ,\"Sexo\":\"H\" },\n",
        "        { \"Matri\": 368736, \"Nombre(s)\":\"Adrian Eduarno\",\"Apellido Paterno\":\"Cebreros\", \"Apellido Materno\" : \"Garambullo\", \"Edad\": \"20\" ,\"Sexo\":\"H\" },\n",
        "        { \"Matri\": 366108, \"Nombre(s)\":\"Raymundo\",\"Apellido Paterno\":\"Miguel\", \"Apellido Materno\" : \"Aguilera\", \"Edad\": \"21\" ,\"Sexo\":\"H\" },\n",
        "        { \"Matri\": 372304, \"Nombre(s)\":\"Omar\",\"Apellido Paterno\":\"Robles\", \"Apellido Materno\" : \"Carrasco\", \"Edad\": \"23\" ,\"Sexo\":\"H\" },\n",
        "        { \"Matri\": 372720, \"Nombre(s)\":\"Michelle Alejandra\",\"Apellido Paterno\":\"Sanchez\", \"Apellido Materno\" : \"Dominguez\", \"Edad\": \"21\" ,\"Sexo\":\"M\" },\n",
        "        { \"Matri\": 328190, \"Nombre(s)\":\"Alondra Daniela\",\"Apellido Paterno\":\"Solis\", \"Apellido Materno\" : \"Castro\", \"Edad\": \"19\" ,\"Sexo\":\"M\" },\n",
        "        { \"Matri\": 346712, \"Nombre(s)\":\"Joel \",\"Apellido Paterno\":\"Castillo\", \"Apellido Materno\" : \"Hernandez\", \"Edad\": \"22\" ,\"Sexo\":\"H\" },\n",
        "        { \"Matri\": 372720, \"Nombre(s)\":\"Natalia\",\"Apellido Paterno\":\"Huerta\", \"Apellido Materno\" : \"Pereira\", \"Edad\": \"25\" ,\"Sexo\":\"M\" },\n",
        "        { \"Matri\": 314582, \"Nombre(s)\":\"Carlos Ulises \",\"Apellido Paterno\":\"Armenta\", \"Apellido Materno\" : \"Sosa\", \"Edad\": \"21\" ,\"Sexo\":\"H\" },\n",
        "        { \"Matri\": 318354, \"Nombre(s)\":\"James\",\"Apellido Paterno\":\"Holler\", \"Apellido Materno\" : \"Ortiz\", \"Edad\": \"26\" ,\"Sexo\":\"H\" },\n",
        "        { \"Matri\": 322986, \"Nombre(s)\":\"Ariana \",\"Apellido Paterno\":\"Grande\", \"Apellido Materno\" : \"Butera\", \"Edad\": \"22\" ,\"Sexo\":\"M\" },\n",
        "        { \"Matri\": 355712, \"Nombre(s)\":\"Olivia\",\"Apellido Paterno\":\"Perez\", \"Apellido Materno\" : \"Rodriguez\", \"Edad\": \"21\" ,\"Sexo\":\"M\" },\n",
        "        { \"Matri\": 311673, \"Nombre(s)\":\"Julian Antonio\",\"Apellido Paterno\":\"Fernandez\", \"Apellido Materno\" : \"Poza\", \"Edad\": \"22\" ,\"Sexo\":\"H\" },\n",
        "        { \"Matri\": 333816, \"Nombre(s)\":\"Evelyn Abril\",\"Apellido Paterno\":\"Gonzalez\", \"Apellido Materno\" : \"Lopez\", \"Edad\": \"21\" ,\"Sexo\":\"M\" },\n",
        "        { \"Matri\": 301528, \"Nombre(s)\":\"German Daniel\",\"Apellido Paterno\":\"Dolores\", \"Apellido Materno\" : \"Pineda\", \"Edad\": \"19\" ,\"Sexo\":\"M\" },\n",
        "        { \"Matri\": 348091, \"Nombre(s)\":\"Milo\",\"Apellido Paterno\":\"Martinez\", \"Apellido Materno\" : \"Quintero\", \"Edad\": \"21\" ,\"Sexo\":\"H\" }\n",
        "       ]\n",
        "\n",
        "    print(\"\\n\")\n",
        "    print(\"Se ha generado la lista\")\n",
        "    print(\"\\n\")\n",
        "\n",
        "    return random.choice(dic)"
      ],
      "metadata": {
        "id": "F7vS38K0bS4O"
      },
      "execution_count": 40,
      "outputs": []
    },
    {
      "cell_type": "code",
      "source": [
        "def imprime_dic(dic):\n",
        "    print(\"\\n\")\n",
        "    print(\"REGISTRO DE ALUMNO\")\n",
        "    print(\"~~~~~~~~~~~~~~~~~~~~\")\n",
        "    print(yaml.dump(dic, sort_keys=False, default_flow_style=False))\n"
      ],
      "metadata": {
        "id": "qNvHUpXslanO"
      },
      "execution_count": 41,
      "outputs": []
    },
    {
      "cell_type": "code",
      "source": [
        "def menu():\n",
        "    print(\"MENU:\")\n",
        "    print(\"1.-CREAR DICCIONARIO\")\n",
        "    print(\"2.-IMPRIMIR DICCIONARIO\")\n",
        "    print(\"0.-SALIR\")"
      ],
      "metadata": {
        "id": "TpJGNmCVV_gr"
      },
      "execution_count": 42,
      "outputs": []
    },
    {
      "cell_type": "code",
      "source": [
        "while True:\n",
        "    menu()\n",
        "    op = int(input(\"Ingresa la funcion que deseas utilizar: \"))\n",
        "    if op == 1:\n",
        "        dic = hacer_dic()\n",
        "        input(\"Presiona ENTER para borrar la pantalla\")\n",
        "        clear_output()\n",
        "        continue\n",
        "    elif op == 2:\n",
        "        imprime_dic(dic)\n",
        "        input(\"Presiona ENTER para borrar la pantalla\")\n",
        "        clear_output()\n",
        "        continue\n",
        "    elif op == 0:\n",
        "        break"
      ],
      "metadata": {
        "colab": {
          "base_uri": "https://localhost:8080/",
          "height": 0
        },
        "id": "WKJxFdl5V_zQ",
        "outputId": "61ba0c04-d6a1-4b29-f999-c604edc789d5"
      },
      "execution_count": null,
      "outputs": [
        {
          "output_type": "stream",
          "name": "stdout",
          "text": [
            "MENU:\n",
            "1.-CREAR DICCIONARIO\n",
            "2.-IMPRIMIR DICCIONARIO\n",
            "0.-SALIR\n",
            "Ingresa la funcion que deseas utilizar: 2\n",
            "\n",
            "\n",
            "REGISTRO DE ALUMNO\n",
            "~~~~~~~~~~~~~~~~~~~~\n",
            "Matri: 372304\n",
            "Nombre(s): Omar\n",
            "Apellido Paterno: Robles\n",
            "Apellido Materno: Carrasco\n",
            "Edad: '23'\n",
            "Sexo: H\n",
            "\n"
          ]
        }
      ]
    }
  ]
}