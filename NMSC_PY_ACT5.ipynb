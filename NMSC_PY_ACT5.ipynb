{
  "nbformat": 4,
  "nbformat_minor": 0,
  "metadata": {
    "colab": {
      "provenance": [],
      "authorship_tag": "ABX9TyNCrUFLWusXyAYe7nyLfGbB",
      "include_colab_link": true
    },
    "kernelspec": {
      "name": "python3",
      "display_name": "Python 3"
    },
    "language_info": {
      "name": "python"
    }
  },
  "cells": [
    {
      "cell_type": "markdown",
      "metadata": {
        "id": "view-in-github",
        "colab_type": "text"
      },
      "source": [
        "<a href=\"https://colab.research.google.com/github/20020424/PYTHON_23_2/blob/main/NMSC_PY_ACT5.ipynb\" target=\"_parent\"><img src=\"https://colab.research.google.com/assets/colab-badge.svg\" alt=\"Open In Colab\"/></a>"
      ]
    },
    {
      "cell_type": "markdown",
      "source": [
        "*NANCY MARIA SIQUEIROS CHAVEZ*\n",
        "\n",
        "*MATRICULA: 366239*\n",
        "\n",
        "*FECHA: 12 DE SEPTIEMBRE DEL 2023*\n",
        "\n",
        "*ACTIVIDAD 5*"
      ],
      "metadata": {
        "id": "C7JQsJtwEKxr"
      }
    },
    {
      "cell_type": "markdown",
      "source": [
        "#### 1.- Programa en Python que genere 40 números aleatorios entre el 0 y 200, desplegar los números y la leyenda de cada número si es par o impar , la cantidad de los números pares e impares así como la suma de los números pares o impares."
      ],
      "metadata": {
        "id": "bksiLhYfEMmw"
      }
    },
    {
      "cell_type": "code",
      "execution_count": 5,
      "metadata": {
        "colab": {
          "base_uri": "https://localhost:8080/"
        },
        "id": "vKMFmxlWEIzT",
        "outputId": "7983086c-a9d8-45a0-df03-b3b05569330d"
      },
      "outputs": [
        {
          "output_type": "stream",
          "name": "stdout",
          "text": [
            "1-. El número 197 es Impar\n",
            "2-. El número 36 es Par\n",
            "3-. El número 39 es Impar\n",
            "4-. El número 78 es Par\n",
            "5-. El número 136 es Par\n",
            "6-. El número 165 es Impar\n",
            "7-. El número 86 es Par\n",
            "8-. El número 74 es Par\n",
            "9-. El número 138 es Par\n",
            "10-. El número 170 es Par\n",
            "11-. El número 184 es Par\n",
            "12-. El número 160 es Par\n",
            "13-. El número 164 es Par\n",
            "14-. El número 37 es Impar\n",
            "15-. El número 135 es Impar\n",
            "16-. El número 113 es Impar\n",
            "17-. El número 15 es Impar\n",
            "18-. El número 137 es Impar\n",
            "19-. El número 184 es Par\n",
            "20-. El número 73 es Impar\n",
            "21-. El número 123 es Impar\n",
            "22-. El número 162 es Par\n",
            "23-. El número 18 es Par\n",
            "24-. El número 30 es Par\n",
            "25-. El número 91 es Impar\n",
            "26-. El número 33 es Impar\n",
            "27-. El número 159 es Impar\n",
            "28-. El número 121 es Impar\n",
            "29-. El número 150 es Par\n",
            "30-. El número 124 es Par\n",
            "31-. El número 30 es Par\n",
            "32-. El número 156 es Par\n",
            "33-. El número 75 es Impar\n",
            "34-. El número 179 es Impar\n",
            "35-. El número 16 es Par\n",
            "36-. El número 170 es Par\n",
            "37-. El número 102 es Par\n",
            "38-. El número 81 es Impar\n",
            "39-. El número 127 es Impar\n",
            "40-. El número 2 es Par\n",
            "La cantidad de pares que hay son: 22\n",
            "La cantidad de impares que hay son: 18\n",
            "La suma de pares es de: 2370\n",
            "La suma de impares es de: 1900\n"
          ]
        }
      ],
      "source": [
        "import random\n",
        "\n",
        "par = 0\n",
        "impar = 0\n",
        "sumapar = 0\n",
        "sumaimpar = 0\n",
        "\n",
        "try:\n",
        "    for i in range(40):\n",
        "        n = random.randint(0,200)\n",
        "\n",
        "        if(n % 2 == 0):\n",
        "            print(f\"{i + 1}-. El número {n} es Par\")\n",
        "\n",
        "            par = par + 1\n",
        "            sumapar = sumapar + n\n",
        "\n",
        "        else:\n",
        "            print(f\"{i + 1}-. El número {n} es Impar\")\n",
        "\n",
        "            impar = impar + 1\n",
        "            sumaimpar = sumaimpar + n\n",
        "\n",
        "except ValueError:\n",
        "    print(\"Dame un numero, no letras\")\n",
        "\n",
        "else:\n",
        "    print(f\"La cantidad de pares que hay son: {par}\")\n",
        "    print(f\"La cantidad de impares que hay son: {impar}\")\n",
        "    print(f\"La suma de pares es de: {sumapar}\")\n",
        "    print(f\"La suma de impares es de: {sumaimpar}\")\n"
      ]
    },
    {
      "cell_type": "markdown",
      "source": [
        "#### 2.- Programa en Python que despliegue la tabla de multiplicar de un número dado (número entre el 1 y 20)."
      ],
      "metadata": {
        "id": "Izg4Au-tFL1I"
      }
    },
    {
      "cell_type": "code",
      "source": [
        "print(\"TABLAS DE MULTIPLICAR 1 - 2O\")\n",
        "\n",
        "try:\n",
        "\n",
        "    n = int(input(\"Dame un numero (1 - 20): \"))\n",
        "    if n < 1 or n > 20:\n",
        "        raise ValueError (\"El numero debe de estar entre 1 y 20\")\n",
        "\n",
        "    for i in range(1,11):\n",
        "\n",
        "        print(f\"{n} x {i} = {n*i} \")\n",
        "\n",
        "except ValueError as e:\n",
        "    print(\"Error:\", e)\n",
        "\n",
        "except TypeError:\n",
        "    print(\"Dame un numero entero\")\n"
      ],
      "metadata": {
        "id": "gwkxi0N4FRNZ",
        "colab": {
          "base_uri": "https://localhost:8080/"
        },
        "outputId": "a9227fab-a227-4f17-b855-99dcc01706e5"
      },
      "execution_count": null,
      "outputs": [
        {
          "output_type": "stream",
          "name": "stdout",
          "text": [
            "TABLAS DE MULTIPLICAR 1 - 2O\n",
            "Dame un numero (1 - 20): 7\n",
            "7 x 1 = 7 \n",
            "7 x 2 = 14 \n",
            "7 x 3 = 21 \n",
            "7 x 4 = 28 \n",
            "7 x 5 = 35 \n",
            "7 x 6 = 42 \n",
            "7 x 7 = 49 \n",
            "7 x 8 = 56 \n",
            "7 x 9 = 63 \n",
            "7 x 10 = 70 \n"
          ]
        }
      ]
    },
    {
      "cell_type": "markdown",
      "source": [
        "#### 3-.  Programa en Python que lea una calificación, las calificación deberá estar en el rango de 0 a 100, si hay un error de captura, mostrar mensaje de error. con la calificación correcta mostrar msg de aprobado reprobado."
      ],
      "metadata": {
        "id": "9mT-QRIOdPkT"
      }
    },
    {
      "cell_type": "code",
      "source": [
        "try:\n",
        "    calif = int(input(\"Dame la calificación (0 a 100): \"))\n",
        "\n",
        "    if calif < 0 or calif > 100:\n",
        "        raise ValueError(\"El numero debe estar entre 0 y 100\")\n",
        "\n",
        "    if calif <= 59:\n",
        "        print(\"REPROBADO\")\n",
        "    else:\n",
        "        print(\"APROBADO\")\n",
        "\n",
        "except ValueError as e:\n",
        "    print(\"ERROR:\", e)\n",
        "\n",
        "except TypeError:\n",
        "    print(\"Error: el numero debe ser entero\")\n"
      ],
      "metadata": {
        "id": "dEOjeXbUdQG0",
        "colab": {
          "base_uri": "https://localhost:8080/"
        },
        "outputId": "6c330666-ca88-4361-f2cd-c0f8516f0bb9"
      },
      "execution_count": null,
      "outputs": [
        {
          "output_type": "stream",
          "name": "stdout",
          "text": [
            "Dame la calificación (0 a 100): 120\n",
            "ERROR: El numero debe estar entre 0 y 100\n"
          ]
        }
      ]
    },
    {
      "cell_type": "markdown",
      "source": [
        "#### 4.- Programa en Python que lea n cantidad de números enteros dentro de un rango dado (> 0 ) , el programa deberá terminar cuando el usuario introduzca el número cero, desplegar la suma de números y la media."
      ],
      "metadata": {
        "id": "k0R4E9hveLBF"
      }
    },
    {
      "cell_type": "code",
      "source": [
        "try:\n",
        "    n = int(input(\"Ingrese la cantidad de números a ingresar (> 0): \"))\n",
        "    if n <= 0:\n",
        "        raise ValueError(\"La cantidad debe ser mayor que cero.\")\n",
        "\n",
        "    total = 0\n",
        "    cantidad_numeros = 0\n",
        "\n",
        "    for i in range(n):\n",
        "        numero = int(input(f\"Ingrese el número #{i + 1}: \"))\n",
        "        if numero == 0:\n",
        "            break\n",
        "        if numero < 0:\n",
        "            raise ValueError(\"Ingrese solo números enteros positivos.\")\n",
        "\n",
        "        total += numero\n",
        "        cantidad_numeros += 1\n",
        "\n",
        "    if cantidad_numeros == 0:\n",
        "        print(\"No se ingresaron números válidos.\")\n",
        "    else:\n",
        "        media = total / cantidad_numeros\n",
        "        print(f\"La suma de los números es: {total}\")\n",
        "        print(f\"La media de los números es: {media}\")\n",
        "\n",
        "except ValueError as e:\n",
        "    print(f\"Error: {e}\")\n",
        "except Exception as e:\n",
        "    print(f\"Se produjo un error inesperado: {e}\")\n"
      ],
      "metadata": {
        "id": "3cLwjlWxeLkm",
        "colab": {
          "base_uri": "https://localhost:8080/"
        },
        "outputId": "54f0d1d1-2369-4ad1-bef2-1015b4ed95be"
      },
      "execution_count": 1,
      "outputs": [
        {
          "output_type": "stream",
          "name": "stdout",
          "text": [
            "Ingrese la cantidad de números a ingresar (> 0): 6\n",
            "Ingrese el número #1: 46\n",
            "Ingrese el número #2: 87\n",
            "Ingrese el número #3: 23\n",
            "Ingrese el número #4: 41\n",
            "Ingrese el número #5: 87\n",
            "Ingrese el número #6: 35\n",
            "La suma de los números es: 319\n",
            "La media de los números es: 53.166666666666664\n"
          ]
        }
      ]
    },
    {
      "cell_type": "markdown",
      "source": [
        "#### 5.- Programa en Python que sirva para leer el promedio de una materia. donde el usuario tendrá un máximo de 3 oportunidades de cursar la materia, si el promedio es aprobado, felicitarlo y continuar el siguiente semestre, si promedio es reprobado deberá salir mensaje de repetir materia o es baja académica si ha reprobado 3 veces."
      ],
      "metadata": {
        "id": "GIQbdZY_efSu"
      }
    },
    {
      "cell_type": "code",
      "source": [
        "intentos = 3\n",
        "\n",
        "for i in range(intentos):\n",
        "    try:\n",
        "        promedio = int(input(\"Ingresa tu promedio de la materia: \"))\n",
        "        if promedio >= 60:\n",
        "            print(\"¡Felicidades! Has aprobado la materia.\")\n",
        "            break\n",
        "        elif i < intentos - 1:\n",
        "            print(\"Lo siento, has reprobado la materia. Inténtalo de nuevo.\")\n",
        "        else:\n",
        "            print(\"Lo siento, has reprobado la materia tres veces. Esto se considera baja académica.\")\n",
        "    except ValueError:\n",
        "        print(\"Error: Ingresa un promedio válido (número decimal).\")\n",
        "\n"
      ],
      "metadata": {
        "id": "kO1U5deSefo5",
        "colab": {
          "base_uri": "https://localhost:8080/"
        },
        "outputId": "ad0fc203-9d08-4536-c928-782a14df01dc"
      },
      "execution_count": 3,
      "outputs": [
        {
          "output_type": "stream",
          "name": "stdout",
          "text": [
            "Ingresa tu promedio de la materia: 54\n",
            "Lo siento, has reprobado la materia. Inténtalo de nuevo.\n",
            "Ingresa tu promedio de la materia: 45\n",
            "Lo siento, has reprobado la materia. Inténtalo de nuevo.\n",
            "Ingresa tu promedio de la materia: 34\n",
            "Lo siento, has reprobado la materia tres veces. Esto se considera baja académica.\n"
          ]
        }
      ]
    },
    {
      "cell_type": "markdown",
      "source": [
        "# PARTE 2"
      ],
      "metadata": {
        "id": "JsaOuoPyI5ml"
      }
    },
    {
      "cell_type": "markdown",
      "source": [
        "#### 1.- función que lea n cantidad de números hasta que el usuario lo desee, desplegar la suma de los números, media y valor de los números mayores y menores."
      ],
      "metadata": {
        "id": "mVn0p1QeI-lz"
      }
    },
    {
      "cell_type": "code",
      "source": [
        "def numeros_rango(n):\n",
        "    sumanum = 0\n",
        "    nummayor = 0\n",
        "    nummenor =99999\n",
        "    for i in range(n):\n",
        "        num = int(input(f\"Ingresa el numero {i+1}: \"))\n",
        "        sumanum += num\n",
        "        if num > nummayor:\n",
        "            nummayor = num\n",
        "        if num < nummenor:\n",
        "            nummenor = num\n",
        "\n",
        "\n",
        "    print(f\"La suma de los numeros es: {sumanum}\")\n",
        "    print(f\"La media de los numeros es: {sumanum/(i+1)}\")\n",
        "    print(f\"El numero mayor es: {nummayor} \")\n",
        "    print(f\"El numero menor es: {nummenor}\")\n",
        "\n",
        "n = int(input(\"Ingresa la cantidad de numeros que deseas leer: \"))\n",
        "numeros_rango(n)"
      ],
      "metadata": {
        "id": "3oEAWhPDI992",
        "colab": {
          "base_uri": "https://localhost:8080/"
        },
        "outputId": "0c0b5add-bb8c-4160-8c74-0e9e6da07d41"
      },
      "execution_count": 13,
      "outputs": [
        {
          "output_type": "stream",
          "name": "stdout",
          "text": [
            "Ingresa la cantidad de numeros que deseas leer: 4\n",
            "Ingresa el numero 1: 34\n",
            "Ingresa el numero 2: 65\n",
            "Ingresa el numero 3: 43\n",
            "Ingresa el numero 4: 12\n",
            "La suma de los numeros es: 154\n",
            "La media de los numeros es: 38.5\n",
            "El numero mayor es: 65 \n",
            "El numero menor es: 12\n"
          ]
        }
      ]
    },
    {
      "cell_type": "markdown",
      "source": [
        "#### 2.- función que genere 15 números impares entre 10 y 60 o máximo de 25 números. desplegar la media de los pares y media de impares."
      ],
      "metadata": {
        "id": "6M0ejRk-JESp"
      }
    },
    {
      "cell_type": "code",
      "source": [
        "import random\n",
        "\n",
        "def numeros():\n",
        "    impar = 1\n",
        "    par = 1\n",
        "    i = 0\n",
        "    sumapar = 0\n",
        "    sumaimpar = 0\n",
        "    while impar <= 15 and i < 25:\n",
        "        num = random.randint(10,60)\n",
        "        print(f\"Numero {i+1}: {num} \", end = \" \")\n",
        "        if num%2 != 0:\n",
        "            print(\"IMPAR\")\n",
        "            impar += 1\n",
        "            sumaimpar += num\n",
        "        else:\n",
        "            print(\"PAR\")\n",
        "            par += 1\n",
        "            sumapar += num\n",
        "        i +=1\n",
        "\n",
        "    print(f\"La media de los pares es: {round(sumapar/par,2)}\")\n",
        "    print(f\"La media de los impares es: {round(sumaimpar/impar,2)}\")\n",
        "\n",
        "numeros()"
      ],
      "metadata": {
        "id": "r3yduK8fJHW-",
        "colab": {
          "base_uri": "https://localhost:8080/"
        },
        "outputId": "160cd671-2b81-4e2a-9603-64bd1a830566"
      },
      "execution_count": 14,
      "outputs": [
        {
          "output_type": "stream",
          "name": "stdout",
          "text": [
            "Numero 1: 54  PAR\n",
            "Numero 2: 26  PAR\n",
            "Numero 3: 49  IMPAR\n",
            "Numero 4: 44  PAR\n",
            "Numero 5: 55  IMPAR\n",
            "Numero 6: 11  IMPAR\n",
            "Numero 7: 17  IMPAR\n",
            "Numero 8: 38  PAR\n",
            "Numero 9: 13  IMPAR\n",
            "Numero 10: 35  IMPAR\n",
            "Numero 11: 39  IMPAR\n",
            "Numero 12: 58  PAR\n",
            "Numero 13: 17  IMPAR\n",
            "Numero 14: 33  IMPAR\n",
            "Numero 15: 31  IMPAR\n",
            "Numero 16: 44  PAR\n",
            "Numero 17: 10  PAR\n",
            "Numero 18: 34  PAR\n",
            "Numero 19: 30  PAR\n",
            "Numero 20: 37  IMPAR\n",
            "Numero 21: 54  PAR\n",
            "Numero 22: 15  IMPAR\n",
            "Numero 23: 57  IMPAR\n",
            "Numero 24: 34  PAR\n",
            "Numero 25: 56  PAR\n",
            "La media de los pares es: 37.08\n",
            "La media de los impares es: 29.21\n"
          ]
        }
      ]
    },
    {
      "cell_type": "markdown",
      "source": [
        "#### 3.- función que sirva para leer y validar un número dentro de un rango dado por el usuario. repetir esta acción hasta que el usuario lo desee, desplegar cantidad de números y promedio de los números.."
      ],
      "metadata": {
        "id": "-SW_yOVdJHsY"
      }
    },
    {
      "cell_type": "code",
      "source": [
        "def val_num(ri,rf,msge =\"DAME UN NUMERO ENTRE \",msgError1=\"NUMERO FUERA DEL RANGO\",msgError2=\"INGRESA UN NUMERO QUE ESTE EN EL RANGO\"):\n",
        "    sumanum = 0\n",
        "    nums = 0\n",
        "    while True:\n",
        "        try:\n",
        "            num = int(input(f\"{msge} {ri} y {rf}: \"))\n",
        "        except:\n",
        "            print (msgError2)\n",
        "            continue\n",
        "        else:\n",
        "            nums +=1\n",
        "            sumanum += num\n",
        "        if num < ri or num > rf:\n",
        "            print(msgError2)\n",
        "            continue\n",
        "        else:\n",
        "            print(\"FELICIDADES, EL NUMERO ESTA DENTRO DEL RANGO\")\n",
        "            break\n",
        "\n",
        "\n",
        "    print(f\"La cantidad de números es: {nums}\")\n",
        "    print(f\"El promedio de los números es:{sumanum/nums}\")\n",
        "\n",
        "\n",
        "ri = int(input(\"Ingresa el rango inicial: \"))\n",
        "rf = int(input(\"Ingresa el rango final: \"))\n",
        "val_num(ri,rf)"
      ],
      "metadata": {
        "id": "nYoaqJmYURcB",
        "colab": {
          "base_uri": "https://localhost:8080/"
        },
        "outputId": "a47e317f-c929-44ee-8503-6c256c92075d"
      },
      "execution_count": 15,
      "outputs": [
        {
          "output_type": "stream",
          "name": "stdout",
          "text": [
            "Ingresa el rango inicial: 1\n",
            "Ingresa el rango final: 10\n",
            "DAME UN NUMERO ENTRE  1 y 10: 11\n",
            "INGRESA UN NUMERO QUE ESTE EN EL RANGO\n",
            "DAME UN NUMERO ENTRE  1 y 10: 45\n",
            "INGRESA UN NUMERO QUE ESTE EN EL RANGO\n",
            "DAME UN NUMERO ENTRE  1 y 10: 6\n",
            "FELICIDADES, EL NUMERO ESTA DENTRO DEL RANGO\n",
            "La cantidad de números es: 3\n",
            "El promedio de los números es:20.666666666666668\n"
          ]
        }
      ]
    },
    {
      "cell_type": "markdown",
      "source": [
        "#### 4.- función que reciba como parámetro los valores para el área de un triángulo y retorne su resultado"
      ],
      "metadata": {
        "id": "XC4zaILsURxO"
      }
    },
    {
      "cell_type": "code",
      "source": [
        "base = int(input(\"Ingresa la base del triangulo: \"))\n",
        "altura = int(input(\"Ingresa la altura del triangulo: \"))\n",
        "def area_tri(base,altura):\n",
        "    area = (base * altura) / 2\n",
        "    return area\n",
        "area = area_tri(base,altura)\n",
        "print(f\"El area del triangulo es: {area}\")"
      ],
      "metadata": {
        "id": "NMyfqroaUU4K",
        "colab": {
          "base_uri": "https://localhost:8080/"
        },
        "outputId": "74f61467-6e8f-4fbe-bc26-38f7849b0d81"
      },
      "execution_count": 23,
      "outputs": [
        {
          "output_type": "stream",
          "name": "stdout",
          "text": [
            "Ingresa la base del triangulo: 15\n",
            "Ingresa la altura del triangulo: 7\n",
            "El area del triangulo es: 52.5\n"
          ]
        }
      ]
    },
    {
      "cell_type": "markdown",
      "source": [
        "#### 5.- función que sirva para validar un número dentro de un rango dado."
      ],
      "metadata": {
        "id": "D9wZjDqlUVRH"
      }
    },
    {
      "cell_type": "code",
      "source": [
        "def vali_num(ri=13,rf=25,msge =\"DAME UN NUMERO \",msgError1=\"NUMERO FUERA DEL RANGO\",msgError2=\"EL NUMERO NO SE ENCUENTRA EN EL RANGO\"):\n",
        "    while True:\n",
        "        try:\n",
        "            num = int(input(f\"{msge}: \"))\n",
        "        except:\n",
        "            print (msgError2)\n",
        "            continue\n",
        "        if num < ri or num > rf:\n",
        "            print(msgError2)\n",
        "            continue\n",
        "        else:\n",
        "            print(f\"FELICIDADES, EL NUMERO ESTA DENTRO DEL RANGO({ri} y {rf})\")\n",
        "            break\n",
        "\n",
        "vali_num()"
      ],
      "metadata": {
        "id": "qvg56B7DUa9M",
        "colab": {
          "base_uri": "https://localhost:8080/"
        },
        "outputId": "e579420f-3e80-42c2-d03f-2af7550e50b4"
      },
      "execution_count": 12,
      "outputs": [
        {
          "output_type": "stream",
          "name": "stdout",
          "text": [
            "DAME UN NUMERO : 2\n",
            "EL NUMERO NO SE ENCUENTRA EN EL RANGO\n",
            "DAME UN NUMERO : 5\n",
            "EL NUMERO NO SE ENCUENTRA EN EL RANGO\n",
            "DAME UN NUMERO : 14\n",
            "FELICIDADES, EL NUMERO ESTA DENTRO DEL RANGO(13 y 25)\n"
          ]
        }
      ]
    },
    {
      "cell_type": "code",
      "source": [
        "def menu():\n",
        "    print(\"MENU:\")\n",
        "    print(\"1.-NUMEROS RANGO\")\n",
        "    print(\"2.-NUMEROS PARES E IMPARES\")\n",
        "    print(\"3.-NUMEROS EN RANGO POR EL USUARIO\")\n",
        "    print(\"4.-AREA DE UN TRIANGULO\")\n",
        "    print(\"5.-VALIDAR NUMERO\")\n",
        "    print(\"0.-SALIR\")"
      ],
      "metadata": {
        "id": "dqPQ8hGlbG-N"
      },
      "execution_count": 21,
      "outputs": []
    },
    {
      "cell_type": "code",
      "source": [
        "from IPython.display import clear_output"
      ],
      "metadata": {
        "id": "um_vOZV4e5Ch"
      },
      "execution_count": 19,
      "outputs": []
    },
    {
      "cell_type": "code",
      "source": [
        "\n",
        "while True:\n",
        "    menu()\n",
        "    op = int(input(\"Ingresa la funcion que deseas utilizar: \"))\n",
        "    if op == 1:\n",
        "\n",
        "        numeros_rango(n)\n",
        "        input(\"Presiona ENTER para borrar la pantalla\")\n",
        "        clear_output()\n",
        "        continue\n",
        "    elif op == 2:\n",
        "        numeros()\n",
        "        input(\"Presiona ENTER para borrar la pantalla\")\n",
        "        clear_output()\n",
        "        continue\n",
        "    elif op == 3:\n",
        "        val_num(ri,rf)\n",
        "        input(\"Presiona ENTER para borrar la pantalla\")\n",
        "        clear_output()\n",
        "        continue\n",
        "    elif op == 4:\n",
        "        area_tri(base,altura)\n",
        "        input(\"Presiona ENTER para borrar la pantalla\")\n",
        "        clear_output()\n",
        "        continue\n",
        "    elif op == 5:\n",
        "        vali_num()\n",
        "        input(\"Presiona ENTER para borrar la pantalla\")\n",
        "        clear_output()\n",
        "        continue\n",
        "    elif op == 0:\n",
        "        break"
      ],
      "metadata": {
        "id": "VwE4P6RuUbcH",
        "colab": {
          "base_uri": "https://localhost:8080/"
        },
        "outputId": "65b02265-d566-49d1-dea9-40bc77639946"
      },
      "execution_count": null,
      "outputs": [
        {
          "output_type": "stream",
          "name": "stdout",
          "text": [
            "MENU:\n",
            "1.-NUMEROS RANGO\n",
            "2.-NUMEROS PARES E IMPARES\n",
            "3.-NUMEROS EN RANGO POR EL USUARIO\n",
            "4.-AREA DE UN TRIANGULO\n",
            "5.-VALIDAR NUMERO\n",
            "0.-SALIR\n",
            "Ingresa la funcion que deseas utilizar: 2\n",
            "Numero 1: 47  IMPAR\n",
            "Numero 2: 56  PAR\n",
            "Numero 3: 10  PAR\n",
            "Numero 4: 14  PAR\n",
            "Numero 5: 46  PAR\n",
            "Numero 6: 15  IMPAR\n",
            "Numero 7: 41  IMPAR\n",
            "Numero 8: 51  IMPAR\n",
            "Numero 9: 14  PAR\n",
            "Numero 10: 18  PAR\n",
            "Numero 11: 21  IMPAR\n",
            "Numero 12: 18  PAR\n",
            "Numero 13: 14  PAR\n",
            "Numero 14: 54  PAR\n",
            "Numero 15: 36  PAR\n",
            "Numero 16: 38  PAR\n",
            "Numero 17: 15  IMPAR\n",
            "Numero 18: 53  IMPAR\n",
            "Numero 19: 52  PAR\n",
            "Numero 20: 49  IMPAR\n",
            "Numero 21: 31  IMPAR\n",
            "Numero 22: 39  IMPAR\n",
            "Numero 23: 59  IMPAR\n",
            "Numero 24: 59  IMPAR\n",
            "Numero 25: 41  IMPAR\n",
            "La media de los pares es: 28.46\n",
            "La media de los impares es: 37.21\n"
          ]
        }
      ]
    }
  ]
}